{
 "cells": [
  {
   "cell_type": "code",
   "execution_count": 59,
   "metadata": {},
   "outputs": [
    {
     "name": "stdout",
     "output_type": "stream",
     "text": [
      "Noise info\n",
      "Mean:  -0.00142476472468\n",
      "Var:  0.0104359449876\n",
      "Std:  0.102156473058\n"
     ]
    },
    {
     "data": {
      "image/png": "[encoded data removed]",
      "text/plain": [
       "<matplotlib.figure.Figure at 0x112559630>"
      ]
     },
     "metadata": {},
     "output_type": "display_data"
    }
   ],
   "source": [
    "import numpy as np\n",
    "import matplotlib.pyplot as plt\n",
    "\n",
    "np.random.seed(114514)\n",
    "\n",
    "# 長さ\n",
    "length = 100\n",
    "# ノイズ\n",
    "noise = np.r_[np.zeros(50), (np.random.rand(50)-0.5)*0.5]\n",
    "print('Noise info')\n",
    "print('Mean: ', str(np.mean(noise)))\n",
    "print('Var: ', str(np.var(noise)))\n",
    "print('Std: ', str(np.std(noise)))\n",
    "# 実測データ\n",
    "y = np.array([np.sin(2 * np.pi * i * 0.01) for i in range(length)]) + noise + 2\n",
    "# 予測データ\n",
    "y_pred = np.array([np.sin(2 * np.pi * i * 0.01) for i in range(length)]) + 2\n",
    "\n",
    "# 可視化\n",
    "plt.plot(y_pred)\n",
    "plt.plot(y)\n",
    "plt.show()"
   ]
  },
  {
   "cell_type": "markdown",
   "metadata": {},
   "source": [
    "# Absolute Error(AE)\n",
    "\\begin{equation*}\n",
    "{\\rm AE} = \\sum_{i=0}^{n} |y_i - \\hat{y}_i|\n",
    "\\end{equation*}"
   ]
  },
  {
   "cell_type": "code",
   "execution_count": 60,
   "metadata": {},
   "outputs": [
    {
     "data": {
      "text/plain": [
       "6.255593302896985"
      ]
     },
     "execution_count": 60,
     "metadata": {},
     "output_type": "execute_result"
    }
   ],
   "source": [
    "AE = np.sum(np.abs(y-y_pred))\n",
    "AE"
   ]
  },
  {
   "cell_type": "code",
   "execution_count": null,
   "metadata": {
    "collapsed": true
   },
   "outputs": [],
   "source": [
    "# Mean Absolute Error\n",
    "\\begin{equation*}\n",
    "{\\rm MAE} = \\frac{1}{n} \\sum_{i=0}^{n} |y_i - \\hat{y}_i|\n",
    "\\end{equation*}"
   ]
  },
  {
   "cell_type": "code",
   "execution_count": 61,
   "metadata": {},
   "outputs": [
    {
     "data": {
      "text/plain": [
       "0.062555933028969848"
      ]
     },
     "execution_count": 61,
     "metadata": {},
     "output_type": "execute_result"
    }
   ],
   "source": [
    "MAE = np.mean(np.abs(y-y_pred))\n",
    "MAE"
   ]
  },
  {
   "cell_type": "code",
   "execution_count": null,
   "metadata": {
    "collapsed": true
   },
   "outputs": [],
   "source": [
    "# Mean Consequential Error\n",
    "\\begin{equation*}\n",
    "{\\rm MCE} = \\sum_{y_i \\neq \\hat{y}_i } 1\n",
    "\\end{equation*}"
   ]
  },
  {
   "cell_type": "code",
   "execution_count": 62,
   "metadata": {},
   "outputs": [
    {
     "data": {
      "text/plain": [
       "0.5"
      ]
     },
     "execution_count": 62,
     "metadata": {},
     "output_type": "execute_result"
    }
   ],
   "source": [
    "MCE = np.mean(y != y_pred)\n",
    "MCE"
   ]
  },
  {
   "cell_type": "code",
   "execution_count": null,
   "metadata": {
    "collapsed": true
   },
   "outputs": [],
   "source": [
    "# Root Mean Squared Error\n",
    "\\begin{equation*}\n",
    "{\\rm RMSE} = \\sqrt{ \\frac{1}{n} \\sum_{i = 1}^n (y_i - \\hat{y}_i)^2 }\n",
    "\\end{equation*}"
   ]
  },
  {
   "cell_type": "code",
   "execution_count": 63,
   "metadata": {},
   "outputs": [
    {
     "data": {
      "text/plain": [
       "0.10216640809077114"
      ]
     },
     "execution_count": 63,
     "metadata": {},
     "output_type": "execute_result"
    }
   ],
   "source": [
    "RMSE = np.sqrt(np.mean((y-y_pred)**2))\n",
    "RMSE"
   ]
  },
  {
   "cell_type": "code",
   "execution_count": null,
   "metadata": {
    "collapsed": true
   },
   "outputs": [],
   "source": [
    "# Root Mean Squared Persentage Error\n",
    "\\begin{equation*}\n",
    "{\\rm RMSPE} = \\Biggl( \n",
    " \\sqrt{\n",
    "  \\frac{1}{n} \\sum_{i=1}^n \\biggl\\{ \\frac{y_i-\\hat{y}_i}{y_i} \\biggr\\}^2\n",
    " }\n",
    "\\Biggr) \\times 100\n",
    "\\end{equation*}"
   ]
  },
  {
   "cell_type": "code",
   "execution_count": 64,
   "metadata": {},
   "outputs": [
    {
     "data": {
      "text/plain": [
       "0.75101449664699049"
      ]
     },
     "execution_count": 64,
     "metadata": {},
     "output_type": "execute_result"
    }
   ],
   "source": [
    "RMSPE = (np.mean(((y-y_pred)/y)**2))*100\n",
    "RMSPE"
   ]
  },
  {
   "cell_type": "code",
   "execution_count": null,
   "metadata": {
    "collapsed": true
   },
   "outputs": [],
   "source": []
  },
  {
   "cell_type": "code",
   "execution_count": 65,
   "metadata": {},
   "outputs": [
    {
     "data": {
      "text/plain": [
       "0.04498341190326606"
      ]
     },
     "execution_count": 65,
     "metadata": {},
     "output_type": "execute_result"
    }
   ],
   "source": [
    "RMSLE = np.sqrt(np.mean((np.log(y+1) - np.log(y_pred+1))**2))\n",
    "RMSLE"
   ]
  },
  {
   "cell_type": "code",
   "execution_count": null,
   "metadata": {
    "collapsed": true
   },
   "outputs": [],
   "source": []
  }
 ],
 "metadata": {
  "kernelspec": {
   "display_name": "Python 3",
   "language": "python",
   "name": "python3"
  },
  "language_info": {
   "codemirror_mode": {
    "name": "ipython",
    "version": 3
   },
   "file_extension": ".py",
   "mimetype": "text/x-python",
   "name": "python",
   "nbconvert_exporter": "python",
   "pygments_lexer": "ipython3",
   "version": "3.6.0"
  },
  "varInspector": {
   "cols": {
    "lenName": 16,
    "lenType": 16,
    "lenVar": 40
   },
   "kernels_config": {
    "python": {
     "delete_cmd_postfix": "",
     "delete_cmd_prefix": "del ",
     "library": "var_list.py",
     "varRefreshCmd": "print(var_dic_list())"
    },
    "r": {
     "delete_cmd_postfix": ") ",
     "delete_cmd_prefix": "rm(",
     "library": "var_list.r",
     "varRefreshCmd": "cat(var_dic_list()) "
    }
   },
   "types_to_exclude": [
    "module",
    "function",
    "builtin_function_or_method",
    "instance",
    "_Feature"
   ],
   "window_display": false
  }
 },
 "nbformat": 4,
 "nbformat_minor": 2
}
