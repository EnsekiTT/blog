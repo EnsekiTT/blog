{
 "cells": [
  {
   "cell_type": "code",
   "execution_count": 1,
   "metadata": {},
   "outputs": [],
   "source": [
    "import pandas as pd"
   ]
  },
  {
   "cell_type": "code",
   "execution_count": 30,
   "metadata": {},
   "outputs": [],
   "source": [
    "url = 'https://github.com/EnsekiTT/blog'\n",
    "fetched_dataframes = pd.io.html.read_html(url, skiprows=1)"
   ]
  },
  {
   "cell_type": "code",
   "execution_count": 31,
   "metadata": {},
   "outputs": [
    {
     "data": {
      "text/html": [
       "<div>\n",
       "<style>\n",
       "    .dataframe thead tr:only-child th {\n",
       "        text-align: right;\n",
       "    }\n",
       "\n",
       "    .dataframe thead th {\n",
       "        text-align: left;\n",
       "    }\n",
       "\n",
       "    .dataframe tbody tr th {\n",
       "        vertical-align: top;\n",
       "    }\n",
       "</style>\n",
       "<table border=\"1\" class=\"dataframe\">\n",
       "  <thead>\n",
       "    <tr style=\"text-align: right;\">\n",
       "      <th></th>\n",
       "      <th>0</th>\n",
       "      <th>1</th>\n",
       "      <th>2</th>\n",
       "      <th>3</th>\n",
       "    </tr>\n",
       "  </thead>\n",
       "  <tbody>\n",
       "    <tr>\n",
       "      <th>0</th>\n",
       "      <td>NaN</td>\n",
       "      <td>20171026_STFT</td>\n",
       "      <td>二乗誤差追加した</td>\n",
       "      <td>Oct 26, 2017</td>\n",
       "    </tr>\n",
       "    <tr>\n",
       "      <th>1</th>\n",
       "      <td>NaN</td>\n",
       "      <td>20171027_GAN</td>\n",
       "      <td>MNIST生成した</td>\n",
       "      <td>Oct 31, 2017</td>\n",
       "    </tr>\n",
       "    <tr>\n",
       "      <th>2</th>\n",
       "      <td>NaN</td>\n",
       "      <td>20171028_rooter</td>\n",
       "      <td>ファイルの場所を変えました</td>\n",
       "      <td>Nov 2, 2017</td>\n",
       "    </tr>\n",
       "    <tr>\n",
       "      <th>3</th>\n",
       "      <td>NaN</td>\n",
       "      <td>20171102_binexp</td>\n",
       "      <td>動作確認した</td>\n",
       "      <td>Nov 2, 2017</td>\n",
       "    </tr>\n",
       "    <tr>\n",
       "      <th>4</th>\n",
       "      <td>NaN</td>\n",
       "      <td>20171103_GAN</td>\n",
       "      <td>Result結果を削除</td>\n",
       "      <td>Nov 3, 2017</td>\n",
       "    </tr>\n",
       "    <tr>\n",
       "      <th>5</th>\n",
       "      <td>NaN</td>\n",
       "      <td>.gitignore</td>\n",
       "      <td>Resultファイルを無視</td>\n",
       "      <td>Nov 3, 2017</td>\n",
       "    </tr>\n",
       "    <tr>\n",
       "      <th>6</th>\n",
       "      <td>NaN</td>\n",
       "      <td>LICENSE</td>\n",
       "      <td>Initial commit</td>\n",
       "      <td>Oct 26, 2017</td>\n",
       "    </tr>\n",
       "    <tr>\n",
       "      <th>7</th>\n",
       "      <td>NaN</td>\n",
       "      <td>README.md</td>\n",
       "      <td>Blogリンクを追加</td>\n",
       "      <td>Nov 2, 2017</td>\n",
       "    </tr>\n",
       "  </tbody>\n",
       "</table>\n",
       "</div>"
      ],
      "text/plain": [
       "    0                1               2             3\n",
       "0 NaN    20171026_STFT        二乗誤差追加した  Oct 26, 2017\n",
       "1 NaN     20171027_GAN       MNIST生成した  Oct 31, 2017\n",
       "2 NaN  20171028_rooter   ファイルの場所を変えました   Nov 2, 2017\n",
       "3 NaN  20171102_binexp          動作確認した   Nov 2, 2017\n",
       "4 NaN     20171103_GAN     Result結果を削除   Nov 3, 2017\n",
       "5 NaN       .gitignore   Resultファイルを無視   Nov 3, 2017\n",
       "6 NaN          LICENSE  Initial commit  Oct 26, 2017\n",
       "7 NaN        README.md      Blogリンクを追加   Nov 2, 2017"
      ]
     },
     "execution_count": 31,
     "metadata": {},
     "output_type": "execute_result"
    }
   ],
   "source": [
    "fetched_dataframes[0]"
   ]
  },
  {
   "cell_type": "code",
   "execution_count": null,
   "metadata": {},
   "outputs": [],
   "source": [
    "with pg.connect(database='DataSet',\n",
    "                user='postgres',\n",
    "                host='localhost',\n",
    "                port=5432) as conn, conn.cursor() as cur:\n",
    "    cur.execute('SELECT * FROM ')"
   ]
  }
 ],
 "metadata": {
  "kernelspec": {
   "display_name": "Python 3",
   "language": "python",
   "name": "python3"
  },
  "language_info": {
   "codemirror_mode": {
    "name": "ipython",
    "version": 3
   },
   "file_extension": ".py",
   "mimetype": "text/x-python",
   "name": "python",
   "nbconvert_exporter": "python",
   "pygments_lexer": "ipython3",
   "version": "3.6.2"
  }
 },
 "nbformat": 4,
 "nbformat_minor": 2
}
