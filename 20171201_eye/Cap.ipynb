{
 "cells": [
  {
   "cell_type": "markdown",
   "metadata": {},
   "source": [
    "# 顔のキャプチャ画像から目線を推定する（使うところ\n",
    "* モデルを読み込む\n",
    "* 平均画像を作成する\n",
    "\n",
    "* OpenCVで顔のキャプチャ画像を取得する\n",
    "* キャプチャ画像から顔の部分を切り取る\n",
    "* 画像に前処理を行う\n",
    "* ネットワークに通す\n",
    "* 7x5の画像で表示する"
   ]
  },
  {
   "cell_type": "code",
   "execution_count": 1,
   "metadata": {
    "collapsed": true
   },
   "outputs": [],
   "source": [
    "import os\n",
    "import pickle\n",
    "from PIL import Image\n",
    "import numpy as np\n",
    "import glob\n",
    "import chainer\n",
    "from chainer import cuda, Function, gradient_check, report, training, utils, Variable\n",
    "from chainer import datasets, iterators, optimizers, serializers\n",
    "from chainer import Link, Chain, ChainList\n",
    "import chainer.functions as F\n",
    "import chainer.links as L\n",
    "from chainer.training import extensions\n",
    "from chainer.links.caffe import CaffeFunction\n",
    "from matplotlib import pylab as plt\n",
    "\n",
    "from chainer.datasets import LabeledImageDataset\n",
    "from itertools import chain"
   ]
  },
  {
   "cell_type": "code",
   "execution_count": 2,
   "metadata": {
    "collapsed": true
   },
   "outputs": [],
   "source": [
    "class GoogLeNet(Chain):\n",
    "    insize = 224\n",
    "    \n",
    "    def __init__(self):\n",
    "        super(GoogLeNet, self).__init__()\n",
    "        with self.init_scope():\n",
    "            self.conv1 =  L.Convolution2D(3, 64, 7, stride=2, pad=3)\n",
    "            self.conv2_reduce = L.Convolution2D(64, 64, 1)\n",
    "            self.conv2 = L.Convolution2D(64, 192, 3, stride=1, pad=1)\n",
    "            self.inception_3a = L.Inception(192, 64, 96, 128, 16, 32, 32)\n",
    "            self.inception_3b = L.Inception(256, 128, 128, 192, 32, 96, 64)\n",
    "            self.inception_4a = L.Inception(480, 192, 96, 208, 16, 48, 64)\n",
    "            self.inception_4b = L.Inception(512, 160, 112, 224, 24, 64, 64)\n",
    "            self.inception_4c = L.Inception(512, 128, 128, 256, 24, 64, 64)\n",
    "            self.inception_4d = L.Inception(512, 112, 144, 288, 32, 64, 64)\n",
    "            self.inception_4e = L.Inception(528, 256, 160, 320, 32, 128, 128)\n",
    "            self.inception_5a = L.Inception(832, 256, 160, 320, 32, 128, 128)\n",
    "            self.inception_5b = L.Inception(832, 384, 192, 384, 48, 128, 128)\n",
    "            self.loss3_fc = L.Linear(1024, 1000)\n",
    "            \n",
    "            self.loss1_conv = L.Convolution2D(512, 128, 1)\n",
    "            self.loss1_fc1 = L.Linear(2048, 1024)\n",
    "            self.loss1_fc2 = L.Linear(1024, 1000)\n",
    "            \n",
    "            self.loss2_conv = L.Convolution2D(528, 128, 1)\n",
    "            self.loss2_fc1 = L.Linear(2048, 1024)\n",
    "            self.loss2_fc2 = L.Linear(1024, 1000)\n",
    "        \n",
    "    def __call__(self, x):\n",
    "        h = F.relu(self.conv1(x))\n",
    "        h = F.max_pooling_2d(h, 3, stride=2)\n",
    "        h = F.local_response_normalization(h, n=5, k=1, alpha=2e-05)\n",
    "        h = F.relu(self.conv2_reduce(h))\n",
    "        h = F.relu(self.conv2(h))\n",
    "        h = F.local_response_normalization(h, n=5, k=1, alpha=2e-05)\n",
    "        h = F.max_pooling_2d(h, 3, stride=2)\n",
    "        \n",
    "        h = self.inception_3a(h)\n",
    "        h = self.inception_3b(h)\n",
    "        h = F.max_pooling_2d(h, 3, stride=2)\n",
    "        h = self.inception_4a(h)\n",
    "        \n",
    "        b = F.average_pooling_2d(h, 5, stride=3)\n",
    "        b = F.relu(self.loss1_conv(b))\n",
    "        b = F.relu(self.loss1_fc1(b))\n",
    "        b = self.loss1_fc2(b)\n",
    "        \n",
    "        h = self.inception_4b(h)\n",
    "        h = self.inception_4c(h)\n",
    "        h = self.inception_4d(h)\n",
    "        \n",
    "        b = F.average_pooling_2d(h, 5, stride=3)\n",
    "        b = F.relu(self.loss2_conv(b))\n",
    "        b = F.relu(self.loss2_fc1(b))\n",
    "        b = self.loss2_fc2(b)\n",
    "        \n",
    "        h = self.inception_4e(h)\n",
    "        h = F.max_pooling_2d(h, 3, stride=2)\n",
    "        h = self.inception_5a(h)\n",
    "        h = self.inception_5b(h)\n",
    "        \n",
    "        h = F.average_pooling_2d(h, 7, stride=1)\n",
    "        y = self.loss3_fc(F.dropout(h, 0.4))\n",
    "        return y"
   ]
  },
  {
   "cell_type": "markdown",
   "metadata": {},
   "source": [
    "# モデルを読み込む"
   ]
  },
  {
   "cell_type": "code",
   "execution_count": 3,
   "metadata": {
    "collapsed": true
   },
   "outputs": [],
   "source": [
    "model = L.Classifier(GoogLeNet())\n",
    "chainer.serializers.load_npz('result/2000epoch.npz', model)"
   ]
  },
  {
   "cell_type": "markdown",
   "metadata": {},
   "source": [
    "# データセットを読み込む"
   ]
  },
  {
   "cell_type": "code",
   "execution_count": 4,
   "metadata": {
    "collapsed": true
   },
   "outputs": [],
   "source": [
    "# 画像フォルダ\n",
    "IMG_DIR = 'datas'\n",
    "# 各注視点ごとのフォルダ\n",
    "dnames = glob.glob('{}/*'.format(IMG_DIR))\n",
    "# キャプチャのパス\n",
    "fnames = [glob.glob('{}/*.jpg'.format(d)) for d in dnames\n",
    "          if not os.path.exists('{}/ignore'.format(d))]\n",
    "fnames = list(chain.from_iterable(fnames))\n",
    "\n",
    "labels = [os.path.basename(os.path.dirname(fn)) for fn in fnames]\n",
    "dnames = [os.path.basename(d) for d in dnames\n",
    "          if not os.path.exists('{}/ignore'.format(d))]\n",
    "labels = [dnames.index(l) for l in labels]\n",
    "\n",
    "d = LabeledImageDataset(list(zip(fnames, labels)))"
   ]
  },
  {
   "cell_type": "markdown",
   "metadata": {},
   "source": [
    "# 平均画像を作成する"
   ]
  },
  {
   "cell_type": "code",
   "execution_count": 5,
   "metadata": {
    "collapsed": true
   },
   "outputs": [],
   "source": [
    "width, height = 224, 224\n",
    "\n",
    "# 平均画像を用意する\n",
    "imgArray = None\n",
    "for fname in fnames:\n",
    "    img = Image.open(fname)\n",
    "    img = img.resize((width, height), Image.BICUBIC)\n",
    "    im = np.asarray(img, dtype=np.float32).transpose(2, 0, 1)\n",
    "    if type(imgArray) == type(None):\n",
    "        imgArray = np.asarray(im)/len(fnames)\n",
    "    else:\n",
    "        imgArray += np.asarray(im)/len(fnames)\n",
    "mean_image = imgArray.copy()"
   ]
  },
  {
   "cell_type": "markdown",
   "metadata": {},
   "source": [
    "# OpenCVで顔のキャプチャ画像を取得する"
   ]
  },
  {
   "cell_type": "code",
   "execution_count": 6,
   "metadata": {},
   "outputs": [],
   "source": [
    "import cv2"
   ]
  },
  {
   "cell_type": "code",
   "execution_count": 7,
   "metadata": {},
   "outputs": [],
   "source": [
    "cap = cv2.VideoCapture(0)\n",
    "area_w = 210\n",
    "area_h = 210"
   ]
  },
  {
   "cell_type": "code",
   "execution_count": 38,
   "metadata": {},
   "outputs": [
    {
     "ename": "KeyboardInterrupt",
     "evalue": "",
     "output_type": "error",
     "traceback": [
      "\u001b[0;31m---------------------------------------------------------------------------\u001b[0m",
      "\u001b[0;31mKeyboardInterrupt\u001b[0m                         Traceback (most recent call last)",
      "\u001b[0;32m<ipython-input-38-81b73e984726>\u001b[0m in \u001b[0;36m<module>\u001b[0;34m()\u001b[0m\n\u001b[1;32m     18\u001b[0m     \u001b[0mtest_frame\u001b[0m \u001b[0;34m=\u001b[0m \u001b[0mtest_frame\u001b[0m\u001b[0;34m.\u001b[0m\u001b[0mreshape\u001b[0m\u001b[0;34m(\u001b[0m\u001b[0;36m1\u001b[0m\u001b[0;34m,\u001b[0m\u001b[0;36m3\u001b[0m\u001b[0;34m,\u001b[0m\u001b[0;36m224\u001b[0m\u001b[0;34m,\u001b[0m\u001b[0;36m224\u001b[0m\u001b[0;34m)\u001b[0m\u001b[0;34m\u001b[0m\u001b[0m\n\u001b[1;32m     19\u001b[0m     \u001b[0;31m# 学習済モデルにいれる\u001b[0m\u001b[0;34m\u001b[0m\u001b[0;34m\u001b[0m\u001b[0m\n\u001b[0;32m---> 20\u001b[0;31m     \u001b[0my\u001b[0m\u001b[0;34m,\u001b[0m \u001b[0;34m=\u001b[0m \u001b[0mmodel\u001b[0m\u001b[0;34m.\u001b[0m\u001b[0mpredictor\u001b[0m\u001b[0;34m(\u001b[0m\u001b[0mVariable\u001b[0m\u001b[0;34m(\u001b[0m\u001b[0mtest_frame\u001b[0m\u001b[0;34m)\u001b[0m\u001b[0;34m)\u001b[0m\u001b[0;34m\u001b[0m\u001b[0m\n\u001b[0m\u001b[1;32m     21\u001b[0m     \u001b[0mview_point\u001b[0m \u001b[0;34m=\u001b[0m \u001b[0my\u001b[0m\u001b[0;34m.\u001b[0m\u001b[0mdata\u001b[0m\u001b[0;34m[\u001b[0m\u001b[0;36m0\u001b[0m\u001b[0;34m:\u001b[0m\u001b[0;36m35\u001b[0m\u001b[0;34m]\u001b[0m\u001b[0;34m\u001b[0m\u001b[0m\n\u001b[1;32m     22\u001b[0m     \u001b[0mview_point\u001b[0m \u001b[0;34m=\u001b[0m \u001b[0mview_point\u001b[0m\u001b[0;34m.\u001b[0m\u001b[0mreshape\u001b[0m\u001b[0;34m(\u001b[0m\u001b[0;36m5\u001b[0m\u001b[0;34m,\u001b[0m\u001b[0;36m7\u001b[0m\u001b[0;34m)\u001b[0m\u001b[0;34m\u001b[0m\u001b[0m\n",
      "\u001b[0;32m<ipython-input-2-1f35ae06b313>\u001b[0m in \u001b[0;36m__call__\u001b[0;34m(self, x)\u001b[0m\n\u001b[1;32m     55\u001b[0m         \u001b[0mb\u001b[0m \u001b[0;34m=\u001b[0m \u001b[0mself\u001b[0m\u001b[0;34m.\u001b[0m\u001b[0mloss2_fc2\u001b[0m\u001b[0;34m(\u001b[0m\u001b[0mb\u001b[0m\u001b[0;34m)\u001b[0m\u001b[0;34m\u001b[0m\u001b[0m\n\u001b[1;32m     56\u001b[0m \u001b[0;34m\u001b[0m\u001b[0m\n\u001b[0;32m---> 57\u001b[0;31m         \u001b[0mh\u001b[0m \u001b[0;34m=\u001b[0m \u001b[0mself\u001b[0m\u001b[0;34m.\u001b[0m\u001b[0minception_4e\u001b[0m\u001b[0;34m(\u001b[0m\u001b[0mh\u001b[0m\u001b[0;34m)\u001b[0m\u001b[0;34m\u001b[0m\u001b[0m\n\u001b[0m\u001b[1;32m     58\u001b[0m         \u001b[0mh\u001b[0m \u001b[0;34m=\u001b[0m \u001b[0mF\u001b[0m\u001b[0;34m.\u001b[0m\u001b[0mmax_pooling_2d\u001b[0m\u001b[0;34m(\u001b[0m\u001b[0mh\u001b[0m\u001b[0;34m,\u001b[0m \u001b[0;36m3\u001b[0m\u001b[0;34m,\u001b[0m \u001b[0mstride\u001b[0m\u001b[0;34m=\u001b[0m\u001b[0;36m2\u001b[0m\u001b[0;34m)\u001b[0m\u001b[0;34m\u001b[0m\u001b[0m\n\u001b[1;32m     59\u001b[0m         \u001b[0mh\u001b[0m \u001b[0;34m=\u001b[0m \u001b[0mself\u001b[0m\u001b[0;34m.\u001b[0m\u001b[0minception_5a\u001b[0m\u001b[0;34m(\u001b[0m\u001b[0mh\u001b[0m\u001b[0;34m)\u001b[0m\u001b[0;34m\u001b[0m\u001b[0m\n",
      "\u001b[0;32m~/.pyenv/versions/3.6.0/envs/ml/lib/python3.6/site-packages/chainer/links/connection/inception.py\u001b[0m in \u001b[0;36m__call__\u001b[0;34m(self, x)\u001b[0m\n\u001b[1;32m     81\u001b[0m         pool = self.projp(max_pooling_2d.max_pooling_2d(\n\u001b[1;32m     82\u001b[0m             x, 3, stride=1, pad=1))\n\u001b[0;32m---> 83\u001b[0;31m         \u001b[0my\u001b[0m \u001b[0;34m=\u001b[0m \u001b[0mrelu\u001b[0m\u001b[0;34m.\u001b[0m\u001b[0mrelu\u001b[0m\u001b[0;34m(\u001b[0m\u001b[0mconcat\u001b[0m\u001b[0;34m.\u001b[0m\u001b[0mconcat\u001b[0m\u001b[0;34m(\u001b[0m\u001b[0;34m(\u001b[0m\u001b[0mout1\u001b[0m\u001b[0;34m,\u001b[0m \u001b[0mout3\u001b[0m\u001b[0;34m,\u001b[0m \u001b[0mout5\u001b[0m\u001b[0;34m,\u001b[0m \u001b[0mpool\u001b[0m\u001b[0;34m)\u001b[0m\u001b[0;34m,\u001b[0m \u001b[0maxis\u001b[0m\u001b[0;34m=\u001b[0m\u001b[0;36m1\u001b[0m\u001b[0;34m)\u001b[0m\u001b[0;34m)\u001b[0m\u001b[0;34m\u001b[0m\u001b[0m\n\u001b[0m\u001b[1;32m     84\u001b[0m         \u001b[0;32mreturn\u001b[0m \u001b[0my\u001b[0m\u001b[0;34m\u001b[0m\u001b[0m\n",
      "\u001b[0;32m~/.pyenv/versions/3.6.0/envs/ml/lib/python3.6/site-packages/chainer/functions/activation/relu.py\u001b[0m in \u001b[0;36mrelu\u001b[0;34m(x)\u001b[0m\n\u001b[1;32m    142\u001b[0m \u001b[0;34m\u001b[0m\u001b[0m\n\u001b[1;32m    143\u001b[0m     \"\"\"\n\u001b[0;32m--> 144\u001b[0;31m     \u001b[0my\u001b[0m\u001b[0;34m,\u001b[0m \u001b[0;34m=\u001b[0m \u001b[0mReLU\u001b[0m\u001b[0;34m(\u001b[0m\u001b[0;34m)\u001b[0m\u001b[0;34m.\u001b[0m\u001b[0mapply\u001b[0m\u001b[0;34m(\u001b[0m\u001b[0;34m(\u001b[0m\u001b[0mx\u001b[0m\u001b[0;34m,\u001b[0m\u001b[0;34m)\u001b[0m\u001b[0;34m)\u001b[0m\u001b[0;34m\u001b[0m\u001b[0m\n\u001b[0m\u001b[1;32m    145\u001b[0m     \u001b[0;32mreturn\u001b[0m \u001b[0my\u001b[0m\u001b[0;34m\u001b[0m\u001b[0m\n",
      "\u001b[0;32m~/.pyenv/versions/3.6.0/envs/ml/lib/python3.6/site-packages/chainer/function_node.py\u001b[0m in \u001b[0;36mapply\u001b[0;34m(self, inputs)\u001b[0m\n\u001b[1;32m    220\u001b[0m             \u001b[0mself\u001b[0m\u001b[0;34m.\u001b[0m\u001b[0m_input_indexes_to_retain\u001b[0m \u001b[0;34m=\u001b[0m \u001b[0;32mNone\u001b[0m\u001b[0;34m\u001b[0m\u001b[0m\n\u001b[1;32m    221\u001b[0m             \u001b[0mself\u001b[0m\u001b[0;34m.\u001b[0m\u001b[0m_output_indexes_to_retain\u001b[0m \u001b[0;34m=\u001b[0m \u001b[0;32mNone\u001b[0m\u001b[0;34m\u001b[0m\u001b[0m\n\u001b[0;32m--> 222\u001b[0;31m             \u001b[0moutputs\u001b[0m \u001b[0;34m=\u001b[0m \u001b[0mself\u001b[0m\u001b[0;34m.\u001b[0m\u001b[0mforward\u001b[0m\u001b[0;34m(\u001b[0m\u001b[0min_data\u001b[0m\u001b[0;34m)\u001b[0m\u001b[0;34m\u001b[0m\u001b[0m\n\u001b[0m\u001b[1;32m    223\u001b[0m             \u001b[0;32massert\u001b[0m \u001b[0mtype\u001b[0m\u001b[0;34m(\u001b[0m\u001b[0moutputs\u001b[0m\u001b[0;34m)\u001b[0m \u001b[0;32mis\u001b[0m \u001b[0mtuple\u001b[0m\u001b[0;34m\u001b[0m\u001b[0m\n\u001b[1;32m    224\u001b[0m \u001b[0;34m\u001b[0m\u001b[0m\n",
      "\u001b[0;32m~/.pyenv/versions/3.6.0/envs/ml/lib/python3.6/site-packages/chainer/function_node.py\u001b[0m in \u001b[0;36mforward\u001b[0;34m(self, inputs)\u001b[0m\n\u001b[1;32m    313\u001b[0m         \u001b[0;32mif\u001b[0m \u001b[0misinstance\u001b[0m\u001b[0;34m(\u001b[0m\u001b[0minputs\u001b[0m\u001b[0;34m[\u001b[0m\u001b[0;36m0\u001b[0m\u001b[0;34m]\u001b[0m\u001b[0;34m,\u001b[0m \u001b[0mcuda\u001b[0m\u001b[0;34m.\u001b[0m\u001b[0mndarray\u001b[0m\u001b[0;34m)\u001b[0m\u001b[0;34m:\u001b[0m\u001b[0;34m\u001b[0m\u001b[0m\n\u001b[1;32m    314\u001b[0m             \u001b[0;32mreturn\u001b[0m \u001b[0mself\u001b[0m\u001b[0;34m.\u001b[0m\u001b[0mforward_gpu\u001b[0m\u001b[0;34m(\u001b[0m\u001b[0minputs\u001b[0m\u001b[0;34m)\u001b[0m\u001b[0;34m\u001b[0m\u001b[0m\n\u001b[0;32m--> 315\u001b[0;31m         \u001b[0;32mreturn\u001b[0m \u001b[0mself\u001b[0m\u001b[0;34m.\u001b[0m\u001b[0mforward_cpu\u001b[0m\u001b[0;34m(\u001b[0m\u001b[0minputs\u001b[0m\u001b[0;34m)\u001b[0m\u001b[0;34m\u001b[0m\u001b[0m\n\u001b[0m\u001b[1;32m    316\u001b[0m \u001b[0;34m\u001b[0m\u001b[0m\n\u001b[1;32m    317\u001b[0m     \u001b[0;32mdef\u001b[0m \u001b[0mforward_cpu\u001b[0m\u001b[0;34m(\u001b[0m\u001b[0mself\u001b[0m\u001b[0;34m,\u001b[0m \u001b[0minputs\u001b[0m\u001b[0;34m)\u001b[0m\u001b[0;34m:\u001b[0m\u001b[0;34m\u001b[0m\u001b[0m\n",
      "\u001b[0;32m~/.pyenv/versions/3.6.0/envs/ml/lib/python3.6/site-packages/chainer/functions/activation/relu.py\u001b[0m in \u001b[0;36mforward_cpu\u001b[0;34m(self, x)\u001b[0m\n\u001b[1;32m     27\u001b[0m     \u001b[0;32mdef\u001b[0m \u001b[0mforward_cpu\u001b[0m\u001b[0;34m(\u001b[0m\u001b[0mself\u001b[0m\u001b[0;34m,\u001b[0m \u001b[0mx\u001b[0m\u001b[0;34m)\u001b[0m\u001b[0;34m:\u001b[0m\u001b[0;34m\u001b[0m\u001b[0m\n\u001b[1;32m     28\u001b[0m         \u001b[0mself\u001b[0m\u001b[0;34m.\u001b[0m\u001b[0mretain_outputs\u001b[0m\u001b[0;34m(\u001b[0m\u001b[0;34m(\u001b[0m\u001b[0;36m0\u001b[0m\u001b[0;34m,\u001b[0m\u001b[0;34m)\u001b[0m\u001b[0;34m)\u001b[0m\u001b[0;34m\u001b[0m\u001b[0m\n\u001b[0;32m---> 29\u001b[0;31m         \u001b[0;32mreturn\u001b[0m \u001b[0mutils\u001b[0m\u001b[0;34m.\u001b[0m\u001b[0mforce_array\u001b[0m\u001b[0;34m(\u001b[0m\u001b[0mnumpy\u001b[0m\u001b[0;34m.\u001b[0m\u001b[0mmaximum\u001b[0m\u001b[0;34m(\u001b[0m\u001b[0mx\u001b[0m\u001b[0;34m[\u001b[0m\u001b[0;36m0\u001b[0m\u001b[0;34m]\u001b[0m\u001b[0;34m,\u001b[0m \u001b[0;36m0\u001b[0m\u001b[0;34m,\u001b[0m \u001b[0mdtype\u001b[0m\u001b[0;34m=\u001b[0m\u001b[0mx\u001b[0m\u001b[0;34m[\u001b[0m\u001b[0;36m0\u001b[0m\u001b[0;34m]\u001b[0m\u001b[0;34m.\u001b[0m\u001b[0mdtype\u001b[0m\u001b[0;34m)\u001b[0m\u001b[0;34m)\u001b[0m\u001b[0;34m,\u001b[0m\u001b[0;34m\u001b[0m\u001b[0m\n\u001b[0m\u001b[1;32m     30\u001b[0m \u001b[0;34m\u001b[0m\u001b[0m\n\u001b[1;32m     31\u001b[0m     \u001b[0;32mdef\u001b[0m \u001b[0mforward_gpu\u001b[0m\u001b[0;34m(\u001b[0m\u001b[0mself\u001b[0m\u001b[0;34m,\u001b[0m \u001b[0mx\u001b[0m\u001b[0;34m)\u001b[0m\u001b[0;34m:\u001b[0m\u001b[0;34m\u001b[0m\u001b[0m\n",
      "\u001b[0;31mKeyboardInterrupt\u001b[0m: "
     ]
    }
   ],
   "source": [
    "plist_x = [0 for i in range(20)]\n",
    "plist_y = [0 for i in range(20)]\n",
    "\n",
    "while True:\n",
    "    ret, frame = cap.read()\n",
    "    f_width = frame.shape[1]\n",
    "    f_height = frame.shape[0]\n",
    "    # 縮小\n",
    "    frame = cv2.resize(frame, (int(f_width/2), int(f_height/2)))\n",
    "    # トリミング\n",
    "    frame = frame[int(f_height/4-area_h/2):int(f_height/4+area_h/2), int(f_width/4-area_w/2):int(f_width/4+area_w/2)]\n",
    "    # 縮小2回め\n",
    "    frame = cv2.resize(frame, (224, 224))\n",
    "    # 配列順序入れ替え\n",
    "    test_frame = np.asarray(frame, dtype=np.float32).transpose(2,0,1)\n",
    "    # 平均画像を引く\n",
    "    test_frame = test_frame - mean_image\n",
    "    test_frame = test_frame.reshape(1,3,224,224)\n",
    "    # 学習済モデルにいれる\n",
    "    y, = model.predictor(Variable(test_frame))\n",
    "    view_point = y.data[0:35]\n",
    "    view_point = view_point.reshape(5,7)\n",
    "    image = np.array(view_point, dtype=np.uint8)\n",
    "    point = np.argmax(view_point)\n",
    "    p_x = int(point%7)\n",
    "    p_y = int(point/7)\n",
    "    plist_x.insert(0, p_x)\n",
    "    plist_x.pop()\n",
    "    plist_y.insert(0, p_y)\n",
    "    plist_y.pop()\n",
    "    \n",
    "    \n",
    "    cv2.putText(frame, str(np.mean(plist_x))+','+str(np.mean(plist_y)), (0, 50), cv2.FONT_HERSHEY_PLAIN, 3, (0, 255, 0), 3, cv2.LINE_AA)\n",
    "    cv2.imshow('camera capture', frame)\n",
    "    cv2.imshow('View point', image)\n",
    "    k = cv2.waitKey(1)\n",
    "    if k == 27:\n",
    "        break\n",
    "        \n",
    "cap.release()\n",
    "cv2.destroyAllWindows()"
   ]
  },
  {
   "cell_type": "code",
   "execution_count": null,
   "metadata": {},
   "outputs": [],
   "source": [
    "frame.shape"
   ]
  },
  {
   "cell_type": "code",
   "execution_count": null,
   "metadata": {
    "collapsed": true
   },
   "outputs": [],
   "source": []
  }
 ],
 "metadata": {
  "kernelspec": {
   "display_name": "Python 3",
   "language": "python",
   "name": "python3"
  },
  "language_info": {
   "codemirror_mode": {
    "name": "ipython",
    "version": 3
   },
   "file_extension": ".py",
   "mimetype": "text/x-python",
   "name": "python",
   "nbconvert_exporter": "python",
   "pygments_lexer": "ipython3",
   "version": "3.6.0"
  },
  "varInspector": {
   "cols": {
    "lenName": 16,
    "lenType": 16,
    "lenVar": 40
   },
   "kernels_config": {
    "python": {
     "delete_cmd_postfix": "",
     "delete_cmd_prefix": "del ",
     "library": "var_list.py",
     "varRefreshCmd": "print(var_dic_list())"
    },
    "r": {
     "delete_cmd_postfix": ") ",
     "delete_cmd_prefix": "rm(",
     "library": "var_list.r",
     "varRefreshCmd": "cat(var_dic_list()) "
    }
   },
   "types_to_exclude": [
    "module",
    "function",
    "builtin_function_or_method",
    "instance",
    "_Feature"
   ],
   "window_display": false
  }
 },
 "nbformat": 4,
 "nbformat_minor": 2
}
