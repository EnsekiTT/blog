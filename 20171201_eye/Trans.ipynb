{
 "cells": [
  {
   "cell_type": "code",
   "execution_count": 10,
   "metadata": {
    "collapsed": true
   },
   "outputs": [],
   "source": [
    "import os\n",
    "import pickle\n",
    "from PIL import Image\n",
    "import numpy as np\n",
    "import glob\n",
    "import chainer\n",
    "from chainer import cuda, Function, gradient_check, report, training, utils, Variable\n",
    "from chainer import datasets, iterators, optimizers, serializers\n",
    "from chainer import Link, Chain, ChainList\n",
    "import chainer.functions as F\n",
    "import chainer.links as L\n",
    "from chainer.training import extensions\n",
    "from chainer.links.caffe import CaffeFunction\n",
    "from chainer.datasets import LabeledImageDataset\n",
    "\n",
    "from matplotlib import pylab as plt"
   ]
  },
  {
   "cell_type": "markdown",
   "metadata": {},
   "source": [
    "#  データセットを作る"
   ]
  },
  {
   "cell_type": "code",
   "execution_count": 11,
   "metadata": {},
   "outputs": [],
   "source": [
    "from itertools import chain\n",
    "# 画像フォルダ\n",
    "IMG_DIR = 'datas'\n",
    "# 各注視点ごとのフォルダ\n",
    "dnames = glob.glob('{}/*'.format(IMG_DIR))\n",
    "# キャプチャのパス\n",
    "fnames = [glob.glob('{}/*.jpg'.format(d)) for d in dnames\n",
    "          if not os.path.exists('{}/ignore'.format(d))]\n",
    "fnames = list(chain.from_iterable(fnames))\n",
    "\n",
    "labels = [os.path.basename(os.path.dirname(fn)) for fn in fnames]\n",
    "dnames = [os.path.basename(d) for d in dnames\n",
    "          if not os.path.exists('{}/ignore'.format(d))]\n",
    "labels = [dnames.index(l) for l in labels]\n",
    "\n",
    "d = LabeledImageDataset(list(zip(fnames, labels)))"
   ]
  },
  {
   "cell_type": "markdown",
   "metadata": {},
   "source": [
    "# データセットを加工する"
   ]
  },
  {
   "cell_type": "code",
   "execution_count": 60,
   "metadata": {},
   "outputs": [],
   "source": [
    "from chainer.datasets import TransformDataset\n",
    "from PIL import Image\n",
    "\n",
    "width, height = 224, 224\n",
    "\n",
    "# 平均画像を用意する\n",
    "mean_image = np.ndarray((3, 224, 224), dtype=np.float32)\n",
    "mean_image[0] = 103.939\n",
    "mean_image[1] = 116.779\n",
    "mean_image[2] = 123.68\n",
    "\n",
    "# 各データに行う変換\n",
    "def transform(inputs):\n",
    "    img, label = inputs\n",
    "    img = img[:3, ...]\n",
    "    img = img.astype(np.uint8)\n",
    "    img = Image.fromarray(img.transpose(1, 2, 0))\n",
    "    img = img.resize((width, height), Image.BICUBIC)\n",
    "    img = np.asarray(img).transpose(2, 0, 1)\n",
    "    img = img - mean_image\n",
    "    return img, label\n",
    "\n",
    "# 変換付きデータセットにする\n",
    "td = TransformDataset(d, transform)"
   ]
  },
  {
   "cell_type": "code",
   "execution_count": 61,
   "metadata": {
    "collapsed": true
   },
   "outputs": [],
   "source": [
    "from chainer import datasets\n",
    "\n",
    "train_img, valid_img = datasets.split_dataset_random(td, int(len(d) * 0.8), seed=0)"
   ]
  },
  {
   "cell_type": "markdown",
   "metadata": {},
   "source": [
    "# モデルの読み込み"
   ]
  },
  {
   "cell_type": "code",
   "execution_count": 26,
   "metadata": {},
   "outputs": [
    {
     "name": "stdout",
     "output_type": "stream",
     "text": [
      "Load caffemodel and make pickle\n",
      "model/bvlc_googlenet.caffemodel not found.\n",
      "CPU times: user 578 µs, sys: 607 µs, total: 1.18 ms\n",
      "Wall time: 687 µs\n"
     ]
    }
   ],
   "source": [
    "%%time\n",
    "MODEL = 'model/bvlc_googlenet.caffemodel'\n",
    "PICKLE = 'model/ggnet.pkl'\n",
    "if os.path.exists(PICKLE):\n",
    "    print(\"Load pickle\")\n",
    "    with open(PICKLE, 'rb') as pkl:\n",
    "        model = pickle.load(pkl)\n",
    "else:\n",
    "    print(\"Load caffemodel and make pickle\")\n",
    "    if os.path.exists(MODEL):\n",
    "        model = CaffeFunction(MODEL)\n",
    "        with open(PICKLE, 'wb') as pkl:\n",
    "            pickle.dump(model, pkl)\n",
    "    print(MODEL + \" not found.\")"
   ]
  },
  {
   "cell_type": "markdown",
   "metadata": {},
   "source": [
    "# GoogLeNetのモデル"
   ]
  },
  {
   "cell_type": "code",
   "execution_count": 66,
   "metadata": {
    "collapsed": true
   },
   "outputs": [],
   "source": [
    "class GoogLeNet(Chain):\n",
    "    insize = 224\n",
    "    \n",
    "    def __init__(self):\n",
    "        super(GoogLeNet, self).__init__()\n",
    "        with self.init_scope():\n",
    "            self.conv1 =  L.Convolution2D(3, 64, 7, stride=2, pad=3)\n",
    "            self.conv2_reduce = L.Convolution2D(64, 64, 1)\n",
    "            self.conv2 = L.Convolution2D(64, 192, 3, stride=1, pad=1)\n",
    "            self.inception_3a = L.Inception(192, 64, 96, 128, 16, 32, 32)\n",
    "            self.inception_3b = L.Inception(256, 128, 128, 192, 32, 96, 64)\n",
    "            self.inception_4a = L.Inception(480, 192, 96, 208, 16, 48, 64)\n",
    "            self.inception_4b = L.Inception(512, 160, 112, 224, 24, 64, 64)\n",
    "            self.inception_4c = L.Inception(512, 128, 128, 256, 24, 64, 64)\n",
    "            self.inception_4d = L.Inception(512, 112, 144, 288, 32, 64, 64)\n",
    "            self.inception_4e = L.Inception(528, 256, 160, 320, 32, 128, 128)\n",
    "            self.inception_5a = L.Inception(832, 256, 160, 320, 32, 128, 128)\n",
    "            self.inception_5b = L.Inception(832, 384, 192, 384, 48, 128, 128)\n",
    "            self.loss3_fc = L.Linear(1024, 1000)\n",
    "            \n",
    "            self.loss1_conv = L.Convolution2D(512, 128, 1)\n",
    "            self.loss1_fc1 = L.Linear(2048, 1024)\n",
    "            self.loss1_fc2 = L.Linear(1024, 1000)\n",
    "            \n",
    "            self.loss2_conv = L.Convolution2D(528, 128, 1)\n",
    "            self.loss2_fc1 = L.Linear(2048, 1024)\n",
    "            self.loss2_fc2 = L.Linear(1024, 1000)\n",
    "        \n",
    "    def __call__(self, x):\n",
    "        h = F.relu(self.conv1(x))\n",
    "        h = F.max_pooling_2d(h, 3, stride=2)\n",
    "        h = F.local_response_normalization(h, n=5, k=1, alpha=2e-05)\n",
    "        h = F.relu(self.conv2_reduce(h))\n",
    "        h = F.relu(self.conv2(h))\n",
    "        h = F.local_response_normalization(h, n=5, k=1, alpha=2e-05)\n",
    "        h = F.max_pooling_2d(h, 3, stride=2)\n",
    "        \n",
    "        h = self.inception_3a(h)\n",
    "        h = self.inception_3b(h)\n",
    "        h = F.max_pooling_2d(h, 3, stride=2)\n",
    "        h = self.inception_4a(h)\n",
    "        \n",
    "        b = F.average_pooling_2d(h, 5, stride=3)\n",
    "        b = F.relu(self.loss1_conv(b))\n",
    "        b = F.relu(self.loss1_fc1(b))\n",
    "        b = self.loss1_fc2(b)\n",
    "        \n",
    "        h = self.inception_4b(h)\n",
    "        h = self.inception_4c(h)\n",
    "        h = self.inception_4d(h)\n",
    "        \n",
    "        b = F.average_pooling_2d(h, 5, stride=3)\n",
    "        b = F.relu(self.loss2_conv(b))\n",
    "        b = F.relu(self.loss2_fc1(b))\n",
    "        b = self.loss2_fc2(b)\n",
    "        \n",
    "        h = self.inception_4e(h)\n",
    "        h = F.max_pooling_2d(h, 3, stride=2)\n",
    "        h = self.inception_5a(h)\n",
    "        h = self.inception_5b(h)\n",
    "        \n",
    "        h = F.average_pooling_2d(h, 7, stride=1)\n",
    "        y = self.loss3_fc(F.dropout(h, 0.4))\n",
    "        return y"
   ]
  },
  {
   "cell_type": "code",
   "execution_count": 67,
   "metadata": {
    "collapsed": true
   },
   "outputs": [],
   "source": [
    "def train(train, test):\n",
    "    model = L.Classifier(GoogLeNet())\n",
    "    dev = -1\n",
    "    if dev >= 0:\n",
    "        chainer.cuda.get_device(dev).use()\n",
    "        model.to_gpu()\n",
    "\n",
    "    optimizer = chainer.optimizers.Adam()\n",
    "    optimizer.setup(model)\n",
    "\n",
    "    train_iter = chainer.iterators.SerialIterator(train, 200)\n",
    "    test_iter = chainer.iterators.SerialIterator(test, 200,repeat=False, shuffle=False)\n",
    "\n",
    "    epoch = 100\n",
    "    updater = training.StandardUpdater(train_iter, optimizer, device=dev)\n",
    "    trainer = training.Trainer(updater, (epoch, 'epoch'), out=\"result\")\n",
    "    \n",
    "    # Evaluator\n",
    "    trainer.extend(extensions.Evaluator(test_iter, model, device=dev))\n",
    "\n",
    "    # LogReport\n",
    "    trainer.extend(extensions.LogReport())\n",
    "\n",
    "    # PrintReport\n",
    "    trainer.extend(extensions.PrintReport( entries=['epoch', 'main/loss', 'main/accuracy', 'elapsed_time' ]))\n",
    "\n",
    "    print(\"run\")\n",
    "    trainer.run()"
   ]
  },
  {
   "cell_type": "code",
   "execution_count": null,
   "metadata": {
    "scrolled": false
   },
   "outputs": [
    {
     "name": "stdout",
     "output_type": "stream",
     "text": [
      "run\n",
      "epoch       main/loss   main/accuracy  elapsed_time\n"
     ]
    }
   ],
   "source": [
    "train(train_img, valid_img)"
   ]
  },
  {
   "cell_type": "code",
   "execution_count": null,
   "metadata": {
    "collapsed": true
   },
   "outputs": [],
   "source": []
  }
 ],
 "metadata": {
  "kernelspec": {
   "display_name": "Python 3",
   "language": "python",
   "name": "python3"
  },
  "language_info": {
   "codemirror_mode": {
    "name": "ipython",
    "version": 3
   },
   "file_extension": ".py",
   "mimetype": "text/x-python",
   "name": "python",
   "nbconvert_exporter": "python",
   "pygments_lexer": "ipython3",
   "version": "3.6.0"
  },
  "varInspector": {
   "cols": {
    "lenName": 16,
    "lenType": 16,
    "lenVar": 40
   },
   "kernels_config": {
    "python": {
     "delete_cmd_postfix": "",
     "delete_cmd_prefix": "del ",
     "library": "var_list.py",
     "varRefreshCmd": "print(var_dic_list())"
    },
    "r": {
     "delete_cmd_postfix": ") ",
     "delete_cmd_prefix": "rm(",
     "library": "var_list.r",
     "varRefreshCmd": "cat(var_dic_list()) "
    }
   },
   "types_to_exclude": [
    "module",
    "function",
    "builtin_function_or_method",
    "instance",
    "_Feature"
   ],
   "window_display": false
  }
 },
 "nbformat": 4,
 "nbformat_minor": 2
}
