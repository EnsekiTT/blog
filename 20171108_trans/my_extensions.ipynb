{
 "cells": [
  {
   "cell_type": "markdown",
   "metadata": {},
   "source": [
    "## 諸々インポート"
   ]
  },
  {
   "cell_type": "code",
   "execution_count": 1,
   "metadata": {},
   "outputs": [],
   "source": [
    "import os\n",
    "import chainer\n",
    "from chainer import Function, gradient_check, report, training, utils, Variable\n",
    "from chainer import datasets, iterators, optimizers, serializers\n",
    "from chainer import Link, Chain, ChainList\n",
    "import chainer.functions as F\n",
    "import chainer.links as L\n",
    "from chainer.training import extensions\n",
    "from chainer import cuda\n",
    "from twitter import *\n",
    "\n",
    "from sklearn.datasets import fetch_mldata\n",
    "import numpy as np\n",
    "xp = cuda.cupy"
   ]
  },
  {
   "cell_type": "markdown",
   "metadata": {},
   "source": [
    "## Twitterの設定"
   ]
  },
  {
   "cell_type": "code",
   "execution_count": 2,
   "metadata": {},
   "outputs": [],
   "source": [
    "TOKEN = os.environ[\"DTA_TWITTER_TOKEN\"]\n",
    "TOKEN_SECRET = os.environ[\"DTA_TWITTER_TOKEN_SECRET\"]\n",
    "CONSUMER_KEY = os.environ[\"DTA_TWITTER_CONSUMER_KEY\"]\n",
    "CONSUMER_SECRET = os.environ[\"DTA_TWITTER_CONSUMER_SECRET\"]\n",
    "\n",
    "twi = Twitter(\n",
    "  auth = OAuth(TOKEN, TOKEN_SECRET, CONSUMER_KEY, CONSUMER_SECRET))"
   ]
  },
  {
   "cell_type": "markdown",
   "metadata": {},
   "source": [
    "## モデル"
   ]
  },
  {
   "cell_type": "code",
   "execution_count": 3,
   "metadata": {},
   "outputs": [],
   "source": [
    "class MyModel(Chain):\n",
    "    def __init__(self):\n",
    "        super(MyModel,self).__init__(\n",
    "            l1 = L.Linear(None,100),\n",
    "            l2 = L.Linear(None,100),\n",
    "            l3 = L.Linear(None,10))\n",
    "\n",
    "    def __call__(self,x):\n",
    "        h = F.relu(self.l1(x))\n",
    "        h = F.relu(self.l2(h))\n",
    "        return self.l3(h)"
   ]
  },
  {
   "cell_type": "markdown",
   "metadata": {},
   "source": [
    "## 自分で作ったExtension"
   ]
  },
  {
   "cell_type": "code",
   "execution_count": 4,
   "metadata": {},
   "outputs": [],
   "source": [
    "def myTweetExtension(target_epoch, _log_report='LogReport'):\n",
    "    @training.make_extension()\n",
    "    def tweet(trainer):\n",
    "        print(\"My Extension!!\")\n",
    "        log_report = trainer.get_extension(_log_report)\n",
    "        if len(log_report.log) > 0:\n",
    "            plog = log_report.log[len(log_report.log)-1]\n",
    "            e = plog['epoch']\n",
    "            te = target_epoch\n",
    "            ls = round(plog['main/loss'], 6)\n",
    "            t = round(plog['elapsed_time'],2)\n",
    "            status = \"インテリジェントなスーパーAI「えぽっく:{0}/{1}, ろす:{2}, じかん:{3}[s]」\".format(e,te,ls,t)\n",
    "            res = twi.statuses.update(status=status)\n",
    "    return tweet"
   ]
  },
  {
   "cell_type": "markdown",
   "metadata": {},
   "source": [
    "## 学習するとこ"
   ]
  },
  {
   "cell_type": "code",
   "execution_count": 5,
   "metadata": {},
   "outputs": [],
   "source": [
    "def train():\n",
    "    model = L.Classifier(MyModel())\n",
    "    dev = 0\n",
    "    if dev >= 0:\n",
    "        chainer.cuda.get_device(dev).use()\n",
    "        model.to_gpu()\n",
    "\n",
    "    optimizer = chainer.optimizers.Adam()\n",
    "    optimizer.setup(model)\n",
    "\n",
    "    train, test = chainer.datasets.get_mnist()\n",
    "    train_iter = chainer.iterators.SerialIterator(train, 200)\n",
    "    test_iter = chainer.iterators.SerialIterator(test, 200,repeat=False, shuffle=False)\n",
    "\n",
    "    epoch = 100\n",
    "    updater = training.StandardUpdater(train_iter, optimizer, device=dev)\n",
    "    trainer = training.Trainer(updater, (epoch, 'epoch'), out=\"result\")\n",
    "\n",
    "    # 自分で作ったエクステンション\n",
    "    interval = (50, 'epoch')\n",
    "    trainer.extend(myTweetExtension(epoch), trigger=interval)\n",
    "    \n",
    "    # Evaluator\n",
    "    trainer.extend(extensions.Evaluator(test_iter, model, device=dev))\n",
    "\n",
    "    # LogReport\n",
    "    trainer.extend(extensions.LogReport())\n",
    "\n",
    "    # PrintReport\n",
    "    trainer.extend(extensions.PrintReport( entries=['epoch', 'main/loss', 'main/accuracy', 'elapsed_time' ]))\n",
    "\n",
    "    print(\"run\")\n",
    "    trainer.run()\n"
   ]
  },
  {
   "cell_type": "code",
   "execution_count": 6,
   "metadata": {},
   "outputs": [
    {
     "name": "stdout",
     "output_type": "stream",
     "text": [
      "run\n",
      "epoch       main/loss   main/accuracy  elapsed_time\n",
      "\u001b[J1           0.416937    0.88415        1.65764       \n",
      "\u001b[J2           0.172333    0.949634       2.60494       \n",
      "\u001b[J3           0.12331     0.963751       3.55276       \n",
      "\u001b[J4           0.0962747   0.971334       4.48265       \n",
      "\u001b[J5           0.0779234   0.976734       5.49525       \n",
      "\u001b[J6           0.0654635   0.98           6.49417       \n",
      "\u001b[J7           0.0526592   0.984084       7.45356       \n",
      "\u001b[J8           0.0453604   0.98625        8.40997       \n",
      "\u001b[J9           0.0368609   0.989133       9.50249       \n",
      "\u001b[J10          0.0324923   0.99025        10.5683       \n",
      "\u001b[J11          0.0282837   0.991349       11.534        \n",
      "\u001b[J12          0.02389     0.992882       12.4945       \n",
      "\u001b[J13          0.02041     0.994132       13.4521       \n",
      "\u001b[J14          0.0164471   0.995083       14.3975       \n",
      "\u001b[J15          0.0135287   0.996316       15.3526       \n",
      "\u001b[J16          0.0125601   0.996549       16.3074       \n",
      "\u001b[J17          0.0145302   0.995232       17.2542       \n",
      "\u001b[J18          0.0104193   0.996799       18.2148       \n",
      "\u001b[J19          0.00775852  0.997999       19.1664       \n",
      "\u001b[J20          0.00736302  0.997966       20.1251       \n",
      "\u001b[J21          0.00801593  0.997549       21.1383       \n",
      "\u001b[J22          0.00693566  0.998116       22.1275       \n",
      "\u001b[J23          0.00695682  0.997933       23.0786       \n",
      "\u001b[J24          0.0087456   0.997166       24.0295       \n",
      "\u001b[J25          0.00602292  0.998083       24.9747       \n",
      "\u001b[J26          0.00521154  0.998433       25.9639       \n",
      "\u001b[J27          0.00759369  0.997866       26.936        \n",
      "\u001b[J28          0.00270306  0.999466       27.9701       \n",
      "\u001b[J29          0.00582905  0.998066       28.9874       \n",
      "\u001b[J30          0.00781909  0.997216       29.9527       \n",
      "\u001b[J31          0.00693235  0.997766       30.9669       \n",
      "\u001b[J32          0.00311483  0.999117       32.0204       \n",
      "\u001b[J33          0.000964379  0.999883       33.0196       \n",
      "\u001b[J34          0.0017574   0.999667       34.0022       \n",
      "\u001b[J35          0.00098846  0.999833       35.1294       \n",
      "\u001b[J36          0.0105896   0.996383       36.2028       \n",
      "\u001b[J37          0.0126382   0.995416       37.1992       \n",
      "\u001b[J38          0.00509148  0.998566       38.2045       \n",
      "\u001b[J39          0.00097943  0.9998         39.161        \n",
      "\u001b[J40          0.000379409  0.999983       40.1241       \n",
      "\u001b[J41          0.000154705  1              41.0847       \n",
      "\u001b[J42          0.000127277  1              42.0335       \n",
      "\u001b[J43          0.000109399  1              42.9629       \n",
      "\u001b[J44          9.64214e-05  1              43.9316       \n",
      "\u001b[J45          8.71252e-05  1              44.9085       \n",
      "\u001b[J46          7.68731e-05  1              45.8828       \n",
      "\u001b[J47          6.92934e-05  1              46.8333       \n",
      "\u001b[J48          6.17817e-05  1              47.7808       \n",
      "\u001b[J49          5.55317e-05  1              48.7132       \n",
      "My Extension!!\n",
      "\u001b[J50          5.07507e-05  1              49.9672       \n",
      "\u001b[J51          4.51435e-05  1              50.9642       \n",
      "\u001b[J52          4.08314e-05  1              51.9618       \n",
      "\u001b[J53          3.63937e-05  1              52.9224       \n",
      "\u001b[J54          3.24549e-05  1              53.9098       \n",
      "\u001b[J55          2.97444e-05  1              54.9325       \n",
      "\u001b[J56          2.59569e-05  1              55.8771       \n",
      "\u001b[J57          2.27909e-05  1              56.9339       \n",
      "\u001b[J58          2.09019e-05  1              58.0977       \n",
      "\u001b[J59          1.78188e-05  1              59.0615       \n",
      "\u001b[J60          1.68146e-05  1              60.0033       \n",
      "\u001b[J61          1.40946e-05  1              60.9653       \n",
      "\u001b[J62          1.33886e-05  1              61.9081       \n",
      "\u001b[J63          0.0364321   0.991466       62.9023       \n",
      "\u001b[J64          0.00766072  0.997549       63.8813       \n",
      "\u001b[J65          0.00234907  0.99935        64.8772       \n",
      "\u001b[J66          0.000478923  0.999933       65.842        \n",
      "\u001b[J67          0.000164405  1              66.8232       \n",
      "\u001b[J68          0.000131967  1              67.849        \n",
      "\u001b[J69          8.78346e-05  1              68.9145       \n",
      "\u001b[J70          7.27623e-05  1              69.914        \n",
      "\u001b[J71          6.34614e-05  1              70.87         \n",
      "\u001b[J72          5.5373e-05  1              71.8191       \n",
      "\u001b[J73          4.84151e-05  1              72.7725       \n",
      "\u001b[J74          4.26316e-05  1              73.7646       \n",
      "\u001b[J75          3.76381e-05  1              74.7824       \n",
      "\u001b[J76          3.35401e-05  1              75.7705       \n",
      "\u001b[J77          2.94993e-05  1              76.7377       \n",
      "\u001b[J78          2.62085e-05  1              77.6979       \n",
      "\u001b[J79          2.31871e-05  1              78.7188       \n",
      "\u001b[J80          2.07053e-05  1              79.7107       \n",
      "\u001b[J81          1.83259e-05  1              80.7185       \n",
      "\u001b[J82          1.62753e-05  1              81.748        \n",
      "\u001b[J83          1.44744e-05  1              82.703        \n",
      "\u001b[J84          1.29282e-05  1              83.6732       \n",
      "\u001b[J85          1.13866e-05  1              84.6542       \n",
      "\u001b[J86          1.01919e-05  1              85.6175       \n",
      "\u001b[J87          9.072e-06   1              86.6009       \n",
      "\u001b[J88          8.09402e-06  1              87.5515       \n",
      "\u001b[J89          0.0369527   0.991049       88.5015       \n",
      "\u001b[J90          0.00850257  0.997166       89.4785       \n",
      "\u001b[J91          0.00247341  0.999083       90.4442       \n",
      "\u001b[J92          0.00089113  0.999817       91.4475       \n",
      "\u001b[J93          0.00038152  0.999933       92.4024       \n",
      "\u001b[J94          0.000102637  1              93.3468       \n",
      "\u001b[J95          7.11583e-05  1              94.3141       \n",
      "\u001b[J96          5.81598e-05  1              95.2821       \n",
      "\u001b[J97          4.99778e-05  1              96.2407       \n",
      "\u001b[J98          4.33437e-05  1              97.1927       \n",
      "\u001b[J99          3.80011e-05  1              98.1367       \n",
      "My Extension!!\n",
      "\u001b[J100         3.34261e-05  1              99.3871       \n"
     ]
    }
   ],
   "source": [
    "train()"
   ]
  },
  {
   "cell_type": "code",
   "execution_count": null,
   "metadata": {},
   "outputs": [],
   "source": []
  }
 ],
 "metadata": {
  "kernelspec": {
   "display_name": "Python 3",
   "language": "python",
   "name": "python3"
  },
  "language_info": {
   "codemirror_mode": {
    "name": "ipython",
    "version": 3
   },
   "file_extension": ".py",
   "mimetype": "text/x-python",
   "name": "python",
   "nbconvert_exporter": "python",
   "pygments_lexer": "ipython3",
   "version": "3.6.2"
  }
 },
 "nbformat": 4,
 "nbformat_minor": 2
}
