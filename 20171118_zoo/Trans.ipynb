{
 "cells": [
  {
   "cell_type": "code",
   "execution_count": 1,
   "metadata": {
    "collapsed": true
   },
   "outputs": [],
   "source": [
    "import os\n",
    "import pickle\n",
    "from PIL import Image\n",
    "import numpy as np\n",
    "import chainer\n",
    "from chainer import cuda, Function, gradient_check, report, training, utils, Variable\n",
    "from chainer import datasets, iterators, optimizers, serializers\n",
    "from chainer import Link, Chain, ChainList\n",
    "import chainer.functions as F\n",
    "import chainer.links as L\n",
    "from chainer.training import extensions\n",
    "from chainer.links.caffe import CaffeFunction\n",
    "\n",
    "from matplotlib import pylab as plt"
   ]
  },
  {
   "cell_type": "markdown",
   "metadata": {},
   "source": [
    "# モデルの読み込み"
   ]
  },
  {
   "cell_type": "code",
   "execution_count": 2,
   "metadata": {},
   "outputs": [
    {
     "name": "stdout",
     "output_type": "stream",
     "text": [
      "Load pickle\n",
      "CPU times: user 60.4 ms, sys: 64 ms, total: 124 ms\n",
      "Wall time: 125 ms\n"
     ]
    }
   ],
   "source": [
    "%%time\n",
    "MODEL = 'model/bvlc_googlenet.caffemodel'\n",
    "PICKLE = 'model/ggnet.pkl'\n",
    "if os.path.exists(PICKLE):\n",
    "    print(\"Load pickle\")\n",
    "    with open(PICKLE, 'rb') as pkl:\n",
    "        model = pickle.load(pkl)\n",
    "else:\n",
    "    print(\"Load caffemodel and make pickle\")\n",
    "    if os.path.exists(MODEL):\n",
    "        model = CaffeFunction(MODEL)\n",
    "        with open(PICKLE, 'wb') as pkl:\n",
    "            pickle.dump(model, pkl)\n",
    "    print(MODEL + \" not found.\")"
   ]
  },
  {
   "cell_type": "markdown",
   "metadata": {},
   "source": [
    "# GoogLeNetのモデル"
   ]
  },
  {
   "cell_type": "code",
   "execution_count": 43,
   "metadata": {
    "collapsed": true
   },
   "outputs": [],
   "source": [
    "class GoogLeNet(Chain):\n",
    "    insize = 224\n",
    "    \n",
    "    def __init__(self):\n",
    "        super(GoogLeNet, self).__init__()\n",
    "        with self.init_scope():\n",
    "            self.conv1 =  L.Convolution2D(3, 64, 7, stride=2, pad=3)\n",
    "            self.conv2_reduce = L.Convolution2D(64, 64, 1)\n",
    "            self.conv2 = L.Convolution2D(64, 192, 3, stride=1, pad=1)\n",
    "            self.inception_3a = L.Inception(192, 64, 96, 128, 16, 32, 32)\n",
    "            self.inception_3b = L.Inception(256, 128, 128, 192, 32, 96, 64)\n",
    "            self.inception_4a = L.Inception(480, 192, 96, 208, 16, 48, 64)\n",
    "            self.inception_4b = L.Inception(512, 160, 112, 224, 24, 64, 64)\n",
    "            self.inception_4c = L.Inception(512, 128, 128, 256, 24, 64, 64)\n",
    "            self.inception_4d = L.Inception(512, 112, 144, 288, 32, 64, 64)\n",
    "            self.inception_4e = L.Inception(528, 256, 160, 320, 32, 128, 128)\n",
    "            self.inception_5a = L.Inception(832, 256, 160, 320, 32, 128, 128)\n",
    "            self.inception_5b = L.Inception(832, 384, 192, 384, 48, 128, 128)\n",
    "            loss3_fc = L.Linear(1024, 1000)\n",
    "            \n",
    "            loss1_conv = L.Convolution2D(512, 128, 1)\n",
    "            loss1_fc1 = L.Linear(2048, 1024)\n",
    "            loss1_fc2 = L.Linear(1024, 1000)\n",
    "            \n",
    "            loss2_conv = L.Convolution2D(528, 128, 1)\n",
    "            loss2_fc1 = L.Linear(2048, 1024)\n",
    "            loss2_fc2 = L.Linear(1024, 1000)\n",
    "        \n",
    "    def __call__(self, x, train=True):\n",
    "        h = F.relu(self.conv1(x))\n",
    "        h = F.max_pooling_2d(h, 3, stride=2)\n",
    "        h = F.local_response_normalization(h, n=5, k=1, alpha=2e-05)\n",
    "        h = F.relu(self.conv2_reduce(h))\n",
    "        h = F.relu(self.conv2(h))\n",
    "        h = F.local_response_normalization(h, n=5, k=1, alpha=2e-05)\n",
    "        h = F.max_pooling_2d(h, 3, stride=2)\n",
    "        \n",
    "        h = self.inception_3a(h)\n",
    "        h = self.inception_3b(h)\n",
    "        h = F.max_pooling_2d(h, 3, stride=2)\n",
    "        h = self.inception_4a(h)\n",
    "        \n",
    "        b = F.average_pooling_2d(h, 5, stride=3)\n",
    "        b = F.relu(self.loss1_conv(b))\n",
    "        b = F.relu(self.loss1_fc1(b))\n",
    "        b = self.loss1_fc2(b)\n",
    "        \n",
    "        h = self.inception_4b(h)\n",
    "        h = self.inception_4c(h)\n",
    "        h = self.inception_4d(h)\n",
    "        \n",
    "        b = F.average_pooling_2d(h, 5, stride=3)\n",
    "        b = F.relu(self.loss2_conv(b))\n",
    "        b = F.relu(self.loss2_fc1(b))\n",
    "        b = self.loss2_fc2(b)\n",
    "        \n",
    "        h = self.inception_4e(h)\n",
    "        h = F.max_pooling_2d(h, 3, stride=2)\n",
    "        h = self.inception_5a(h)\n",
    "        h = self.inception_5b(h)\n",
    "        \n",
    "        h = F.average_pooling_2d(h, 7, stride=1)\n",
    "        y = self.loss3_fc(F.dropout(h, 0.4, train=train))\n",
    "        return y"
   ]
  },
  {
   "cell_type": "code",
   "execution_count": 44,
   "metadata": {
    "collapsed": true
   },
   "outputs": [],
   "source": [
    "ggn = GoogLeNet()"
   ]
  },
  {
   "cell_type": "markdown",
   "metadata": {},
   "source": [
    "# モデルの係数をコピーする"
   ]
  },
  {
   "cell_type": "code",
   "execution_count": 5,
   "metadata": {},
   "outputs": [
    {
     "data": {
      "text/plain": [
       "variable W([[[[ -3.27311247e-03,   1.29488721e-01,  -7.51904771e-02, ...,\n",
       "                 2.32334323e-02,   5.11870943e-02,   3.35645825e-02],\n",
       "              [ -2.03503054e-02,   2.44707763e-02,   1.06302321e-01, ...,\n",
       "                -3.07226870e-02,   2.23207977e-02,   1.60575157e-03],\n",
       "              [  3.00176460e-02,   3.64298932e-02,   7.88858859e-04, ...,\n",
       "                -1.43969923e-01,   4.92123328e-02,   1.27435863e-01],\n",
       "              ..., \n",
       "              [  4.32179607e-02,   3.04637421e-02,  -5.50107025e-02, ...,\n",
       "                -5.91920726e-02,   1.06675111e-01,   2.67140754e-02],\n",
       "              [  4.16177101e-02,   7.44467741e-03,  -6.55962080e-02, ...,\n",
       "                -9.24054906e-02,   6.97643459e-02,   2.00017586e-01],\n",
       "              [  1.06574707e-01,  -8.02749675e-03,   3.20614614e-02, ...,\n",
       "                -1.32742827e-03,  -1.79951265e-01,   6.96668699e-02]],\n",
       "\n",
       "             [[ -5.84505349e-02,  -3.28947790e-02,  -1.00884456e-02, ...,\n",
       "                -5.91286942e-02,  -2.48109009e-02,   1.40062034e-01],\n",
       "              [ -6.35843873e-02,  -7.07337260e-02,   4.33491245e-02, ...,\n",
       "                 8.33123997e-02,   5.29226474e-02,  -1.11095168e-01],\n",
       "              [ -8.72713476e-02,   2.88841408e-02,  -2.88259033e-02, ...,\n",
       "                 1.45192444e-01,  -2.53609754e-02,  -8.28599371e-03],\n",
       "              ..., \n",
       "              [ -1.11106008e-01,  -3.35662663e-02,   6.63950145e-02, ...,\n",
       "                 1.00064250e-02,  -8.29679891e-02,   1.57600999e-01],\n",
       "              [ -1.08163310e-02,  -2.54338589e-02,   6.72801286e-02, ...,\n",
       "                 2.69414280e-02,  -4.98220772e-02,  -1.44423917e-01],\n",
       "              [ -9.73174870e-02,  -8.02855752e-03,   3.21297757e-02, ...,\n",
       "                 4.60055433e-02,  -7.99509808e-02,  -3.68623585e-02]],\n",
       "\n",
       "             [[  5.56354336e-02,  -4.62516136e-02,   3.76238674e-03, ...,\n",
       "                 7.82020986e-02,   1.23373391e-02,  -4.60657440e-02],\n",
       "              [  7.12802857e-02,   6.35281950e-02,   7.61184245e-02, ...,\n",
       "                 1.42197549e-01,   1.00617208e-01,  -1.10437565e-01],\n",
       "              [  1.48773175e-02,   6.43330514e-02,   1.88460108e-03, ...,\n",
       "                 2.75963116e-02,  -3.14380834e-03,   9.33230817e-02],\n",
       "              ..., \n",
       "              [  4.11264151e-02,   7.12388307e-02,   5.92322350e-02, ...,\n",
       "                -3.78106907e-02,   3.12051969e-03,   3.47932428e-02],\n",
       "              [ -9.28324610e-02,  -2.33219981e-01,   7.24267215e-02, ...,\n",
       "                 1.73434969e-02,   1.40920237e-01,  -2.64202338e-02],\n",
       "              [ -5.40354699e-02,  -1.13896495e-02,  -4.18167785e-02, ...,\n",
       "                -1.30826309e-01,   7.78756589e-02,  -1.24392891e-02]]],\n",
       "\n",
       "\n",
       "            [[[ -1.27758728e-02,   2.11593173e-02,  -1.10668391e-02, ...,\n",
       "                -5.63837513e-02,   1.17864542e-01,  -1.07027888e-02],\n",
       "              [  2.74035111e-02,  -1.68374956e-01,  -3.48938555e-02, ...,\n",
       "                -6.46982901e-03,  -2.68938616e-02,   3.40980254e-02],\n",
       "              [ -1.26695648e-01,   1.09890290e-01,  -1.69563100e-01, ...,\n",
       "                -7.82099813e-02,   2.35026002e-01,   1.22613020e-01],\n",
       "              ..., \n",
       "              [  4.67864797e-02,  -5.07025570e-02,   3.90682966e-02, ...,\n",
       "                 7.76472837e-02,  -3.84046696e-02,   2.86094360e-02],\n",
       "              [  7.30984583e-02,  -5.08701103e-03,   1.03340842e-01, ...,\n",
       "                -9.17417482e-02,   1.59597658e-02,   3.46584246e-03],\n",
       "              [  8.85023698e-02,   1.61690280e-01,   4.27718498e-02, ...,\n",
       "                 1.19366772e-01,  -8.48579556e-02,  -6.31909594e-02]],\n",
       "\n",
       "             [[  1.15150645e-01,   8.92770067e-02,   5.46815246e-02, ...,\n",
       "                -1.16009474e-01,   8.30930546e-02,   5.94082326e-02],\n",
       "              [  8.62624422e-02,  -3.69693749e-02,  -5.33902235e-02, ...,\n",
       "                -1.24191105e-01,  -1.05995126e-02,   6.17469549e-02],\n",
       "              [ -3.67678441e-02,  -7.16413185e-02,   6.04000464e-02, ...,\n",
       "                 4.40232344e-02,   1.36709139e-02,  -4.49716114e-02],\n",
       "              ..., \n",
       "              [  1.29038855e-01,   2.38348059e-02,   2.78519634e-02, ...,\n",
       "                -9.65118483e-02,   2.78888922e-02,  -1.23910829e-01],\n",
       "              [ -1.18251011e-01,   8.47751573e-02,  -7.38433376e-02, ...,\n",
       "                 1.47978485e-01,  -1.06445067e-02,  -7.58715859e-03],\n",
       "              [  4.12331261e-02,   6.36034459e-02,  -1.37931541e-01, ...,\n",
       "                 1.79890934e-02,   5.92934107e-03,  -5.67866489e-03]],\n",
       "\n",
       "             [[  2.69223750e-02,  -2.21104063e-02,   9.15503409e-03, ...,\n",
       "                 9.66534242e-02,   6.11310825e-02,   2.52509899e-02],\n",
       "              [  1.44136982e-04,  -3.26817925e-03,  -4.48705070e-02, ...,\n",
       "                 2.62634619e-03,   9.00241137e-02,   4.61202487e-02],\n",
       "              [ -1.72225386e-02,   5.56579307e-02,  -6.81593046e-02, ...,\n",
       "                 4.58000898e-02,  -3.31691168e-02,   1.39508173e-01],\n",
       "              ..., \n",
       "              [ -7.08216280e-02,   3.75732370e-02,  -1.03519753e-01, ...,\n",
       "                 6.11150125e-03,   2.19911262e-02,  -6.24769516e-02],\n",
       "              [ -6.09117933e-02,   1.62628487e-01,   6.18342571e-02, ...,\n",
       "                 1.66648388e-01,   2.47289762e-02,  -2.76925508e-02],\n",
       "              [  4.66197059e-02,  -1.13873929e-02,  -3.14552970e-02, ...,\n",
       "                -1.15756113e-04,   1.00789763e-01,  -1.47908526e-02]]],\n",
       "\n",
       "\n",
       "            [[[ -1.20053180e-01,  -3.15229787e-04,  -1.37794912e-01, ...,\n",
       "                -5.99871622e-03,  -8.43379349e-02,   1.84099388e-03],\n",
       "              [  6.73698708e-02,  -3.81374881e-02,   1.04387417e-01, ...,\n",
       "                 1.39500454e-01,  -7.89122432e-02,   7.62814209e-02],\n",
       "              [  1.66369542e-01,  -2.18347490e-01,   1.05806537e-01, ...,\n",
       "                 8.27979147e-02,  -1.76605612e-01,   1.04186885e-01],\n",
       "              ..., \n",
       "              [  3.70580740e-02,   2.04174757e-01,  -1.22048125e-01, ...,\n",
       "                -1.29287302e-01,   4.68543582e-02,  -1.27008647e-01],\n",
       "              [  1.01406172e-01,  -1.80962626e-02,  -5.63040636e-02, ...,\n",
       "                -1.16159566e-01,   3.77242267e-02,  -2.63646580e-02],\n",
       "              [  4.47347248e-03,   8.29782337e-02,   6.78132474e-03, ...,\n",
       "                -2.21469536e-01,  -1.45146921e-02,  -2.18616184e-02]],\n",
       "\n",
       "             [[ -1.21134318e-01,   7.87568837e-02,  -2.02776417e-02, ...,\n",
       "                 4.10531200e-02,   1.78108532e-02,  -1.02949411e-01],\n",
       "              [ -2.00899933e-02,  -7.43238479e-02,  -1.07287930e-03, ...,\n",
       "                -2.39052013e-01,  -1.56963900e-01,  -1.29622240e-02],\n",
       "              [ -5.13195395e-02,   4.62506674e-02,  -1.25259772e-01, ...,\n",
       "                -3.96285318e-02,  -3.05866133e-02,   2.49046087e-02],\n",
       "              ..., \n",
       "              [ -2.17523072e-02,  -1.42240793e-01,   5.76090738e-02, ...,\n",
       "                 1.06171392e-01,   1.55464187e-02,  -8.80767405e-02],\n",
       "              [ -4.62255999e-02,  -9.39044356e-03,  -4.87763472e-02, ...,\n",
       "                 5.05555645e-02,  -1.73286139e-03,   8.23426619e-02],\n",
       "              [  2.70071533e-03,  -8.28449577e-02,   4.14279103e-02, ...,\n",
       "                 4.17520218e-02,  -2.69619394e-02,  -1.92517683e-01]],\n",
       "\n",
       "             [[ -9.84976292e-02,  -7.18504414e-02,  -1.87946036e-01, ...,\n",
       "                -4.09781002e-03,   4.93958369e-02,  -6.90605864e-03],\n",
       "              [ -7.70833269e-02,   7.81013817e-02,  -7.31865764e-02, ...,\n",
       "                -5.41264424e-03,  -2.55255606e-02,  -2.78448407e-03],\n",
       "              [  4.11573723e-02,   1.80801249e-03,   1.62120745e-01, ...,\n",
       "                -2.26652119e-02,   6.87124282e-02,   4.41268571e-02],\n",
       "              ..., \n",
       "              [ -7.60906562e-02,  -2.15961169e-02,   6.99991435e-02, ...,\n",
       "                 8.76677409e-02,  -5.56167662e-02,   8.18665698e-02],\n",
       "              [  5.16202720e-03,  -6.28875494e-02,   9.76515710e-02, ...,\n",
       "                -6.94725662e-02,  -8.70321095e-02,   5.54191098e-02],\n",
       "              [  1.04930416e-01,  -3.65788788e-02,   5.56237064e-02, ...,\n",
       "                -3.23660150e-02,   7.67195895e-02,  -9.21494141e-02]]],\n",
       "\n",
       "\n",
       "            ..., \n",
       "            [[[ -3.33041213e-02,   7.66919032e-02,  -6.13104105e-02, ...,\n",
       "                -2.25042999e-02,  -1.15621565e-02,  -1.04314417e-01],\n",
       "              [  3.35384496e-02,  -9.32246819e-02,   2.99637672e-02, ...,\n",
       "                 8.23051557e-02,   1.02616213e-01,   1.61829256e-02],\n",
       "              [ -8.30504596e-02,  -3.55834179e-02,  -4.68570329e-02, ...,\n",
       "                 1.28053561e-01,   1.54750813e-02,  -1.78318452e-02],\n",
       "              ..., \n",
       "              [  6.53768703e-03,  -8.07203725e-02,  -3.41497152e-03, ...,\n",
       "                 4.98379059e-02,  -1.46255687e-01,   6.41945451e-02],\n",
       "              [ -8.47129300e-02,   6.23601489e-02,  -3.89351137e-02, ...,\n",
       "                 8.16002339e-02,   1.28345102e-01,   1.91679019e-02],\n",
       "              [ -1.31284386e-01,   6.59780428e-02,  -1.30034715e-01, ...,\n",
       "                 4.36333939e-03,   1.72345892e-01,  -1.55929282e-01]],\n",
       "\n",
       "             [[ -8.43837708e-02,  -2.60506541e-01,  -1.40773565e-01, ...,\n",
       "                -1.37137175e-01,   6.83850143e-03,  -1.49595141e-01],\n",
       "              [ -1.01430744e-01,  -1.22237876e-02,   9.90280509e-03, ...,\n",
       "                -2.51921061e-02,  -1.34378046e-01,   1.20882437e-01],\n",
       "              [  2.65272986e-02,   1.07510037e-04,  -1.95351914e-02, ...,\n",
       "                 1.29328474e-01,   4.44964133e-03,  -2.63349600e-02],\n",
       "              ..., \n",
       "              [ -2.00735033e-02,   1.93850502e-01,  -4.51966189e-02, ...,\n",
       "                -5.24992570e-02,  -8.52949545e-02,   9.35608055e-04],\n",
       "              [ -1.75264552e-02,  -7.41849542e-02,   1.96429446e-01, ...,\n",
       "                -1.50458124e-02,  -1.39766801e-02,  -2.79068407e-02],\n",
       "              [ -7.99224973e-02,  -2.84573622e-03,  -7.39092231e-02, ...,\n",
       "                -9.78574604e-02,   8.98161456e-02,   1.61624074e-01]],\n",
       "\n",
       "             [[  2.37120455e-03,  -8.47085267e-02,   9.29685235e-02, ...,\n",
       "                -1.32956117e-01,  -1.82777178e-02,  -1.30825400e-01],\n",
       "              [ -8.48458931e-02,   6.24267347e-02,  -2.14404747e-04, ...,\n",
       "                 4.41979133e-02,  -1.70349682e-04,   6.02809712e-02],\n",
       "              [  9.41071808e-02,  -5.33801802e-02,   8.67256597e-02, ...,\n",
       "                 6.49072379e-02,  -6.59527332e-02,   7.63859367e-03],\n",
       "              ..., \n",
       "              [ -3.13548855e-02,  -7.32903779e-02,  -1.50364578e-01, ...,\n",
       "                 1.63212791e-01,   9.50925276e-02,   5.07394187e-02],\n",
       "              [  7.33701587e-02,  -9.39188004e-02,   6.57488704e-02, ...,\n",
       "                 2.60103811e-02,   5.79654314e-02,   6.18594838e-03],\n",
       "              [  5.97614096e-03,   2.93396227e-02,  -6.93118349e-02, ...,\n",
       "                -2.69126287e-03,   7.60481730e-02,  -1.15505308e-01]]],\n",
       "\n",
       "\n",
       "            [[[ -1.02742098e-01,   5.51500879e-02,  -6.00651316e-02, ...,\n",
       "                -1.45718426e-01,   1.43905208e-01,  -5.67212291e-02],\n",
       "              [ -3.57742026e-03,  -3.68156508e-02,  -5.24554998e-02, ...,\n",
       "                -8.28068778e-02,   2.96932762e-03,  -5.14457114e-02],\n",
       "              [  9.44191068e-02,   4.67686802e-02,  -1.32062510e-01, ...,\n",
       "                -6.36375099e-02,  -7.03791995e-03,   3.23046483e-02],\n",
       "              ..., \n",
       "              [ -6.05658675e-03,  -6.26276210e-02,  -5.26553160e-03, ...,\n",
       "                -8.60771611e-02,  -4.42391932e-02,  -4.67793010e-02],\n",
       "              [ -3.68458852e-02,   7.38489404e-02,  -1.02090321e-01, ...,\n",
       "                -9.71497744e-02,   2.67380010e-02,  -1.31580859e-01],\n",
       "              [  4.79134247e-02,  -7.01530501e-02,  -6.14635050e-02, ...,\n",
       "                 6.79394454e-02,  -4.83677574e-02,  -1.36546716e-02]],\n",
       "\n",
       "             [[ -1.14555350e-02,  -9.37525108e-02,   2.85996329e-02, ...,\n",
       "                -7.53890947e-02,  -4.60960008e-02,   2.76860744e-02],\n",
       "              [  1.40054315e-01,  -6.11349232e-02,  -2.32424308e-02, ...,\n",
       "                -1.44650796e-02,   1.52094335e-05,   6.13768771e-03],\n",
       "              [  1.14521801e-01,   3.72708924e-02,   2.63808239e-02, ...,\n",
       "                 1.04046650e-01,  -4.38142680e-02,   4.87686917e-02],\n",
       "              ..., \n",
       "              [  3.03760450e-02,  -5.16319871e-02,   2.18074326e-03, ...,\n",
       "                 1.03067800e-01,   4.33627777e-02,   2.65746471e-02],\n",
       "              [  4.00655866e-02,   3.14198732e-02,   1.01723634e-01, ...,\n",
       "                -3.66688296e-02,   4.49643619e-02,   9.27086622e-02],\n",
       "              [  2.44682916e-02,   2.58444957e-02,  -1.60785336e-02, ...,\n",
       "                -5.37686199e-02,  -8.05433393e-02,  -1.03817843e-01]],\n",
       "\n",
       "             [[  3.96422110e-03,  -1.78729624e-01,  -5.48339970e-02, ...,\n",
       "                 4.83602434e-02,   3.03171705e-02,  -9.64510888e-02],\n",
       "              [ -8.40278044e-02,   1.75094958e-02,  -4.07596789e-02, ...,\n",
       "                 4.08105925e-02,  -2.35984824e-03,   8.33198428e-02],\n",
       "              [  4.43124920e-02,   4.76140034e-04,   4.43321429e-02, ...,\n",
       "                -4.42420542e-02,  -3.65929641e-02,   1.27410471e-01],\n",
       "              ..., \n",
       "              [  5.13958279e-03,   3.33884023e-02,   5.20654209e-02, ...,\n",
       "                 6.40906543e-02,  -9.01685432e-02,  -2.33491603e-02],\n",
       "              [  1.19009493e-02,  -8.51888880e-02,   9.49427411e-02, ...,\n",
       "                -3.88337076e-02,  -4.35634889e-02,   6.84948862e-02],\n",
       "              [  8.50789100e-02,  -3.96693572e-02,   8.99765939e-02, ...,\n",
       "                -7.10452050e-02,   4.85312194e-02,  -1.10254355e-01]]],\n",
       "\n",
       "\n",
       "            [[[ -3.01563498e-02,  -9.64924246e-02,   1.80746660e-01, ...,\n",
       "                 9.35203396e-03,  -6.83410540e-02,  -1.96538046e-02],\n",
       "              [  2.86315964e-03,   6.39602020e-02,   6.18642010e-02, ...,\n",
       "                 1.32147893e-01,   8.16558022e-03,   2.78650075e-02],\n",
       "              [  2.38746386e-02,  -1.33594051e-01,  -8.19272250e-02, ...,\n",
       "                -8.38794261e-02,  -3.16520408e-02,   4.05692793e-02],\n",
       "              ..., \n",
       "              [  2.58091968e-02,  -3.30600552e-02,  -3.42348665e-02, ...,\n",
       "                 8.44705179e-02,  -2.41446169e-03,  -2.37188742e-01],\n",
       "              [  6.04719371e-02,   7.09322765e-02,   2.36154199e-01, ...,\n",
       "                 8.88465531e-03,   1.19050376e-01,  -3.71389762e-02],\n",
       "              [  1.87848210e-01,  -3.08214512e-04,   8.51958618e-02, ...,\n",
       "                 2.36574188e-02,  -5.03726117e-02,  -6.97876811e-02]],\n",
       "\n",
       "             [[  1.39260655e-02,   2.25714650e-02,   1.15364537e-01, ...,\n",
       "                 1.00195058e-01,   1.09852413e-02,   6.96206763e-02],\n",
       "              [  1.22625064e-02,  -8.36956277e-02,   4.78275008e-02, ...,\n",
       "                 1.44897643e-02,  -4.47456576e-02,  -1.20949131e-02],\n",
       "              [ -5.21555580e-02,  -4.91750287e-03,  -1.47628680e-01, ...,\n",
       "                 8.82014707e-02,   9.50062126e-02,   1.76353194e-02],\n",
       "              ..., \n",
       "              [  4.42412798e-04,  -7.30108544e-02,   2.32854560e-02, ...,\n",
       "                 5.24342805e-02,  -7.21746683e-02,   8.61248076e-02],\n",
       "              [  6.77793846e-02,   3.02603226e-02,  -2.88858768e-02, ...,\n",
       "                 9.58428755e-02,   4.24138531e-02,   5.43898195e-02],\n",
       "              [  3.24575976e-02,   5.57337739e-02,   1.08102411e-02, ...,\n",
       "                 8.95132050e-02,  -3.45235434e-03,  -5.68028875e-02]],\n",
       "\n",
       "             [[  1.76180415e-02,   4.53509651e-02,  -8.03781394e-03, ...,\n",
       "                -5.42124314e-03,  -8.12737569e-02,   1.15239434e-01],\n",
       "              [  4.76611294e-02,  -2.04058643e-02,   1.21567603e-02, ...,\n",
       "                -7.67717361e-02,   7.77786225e-02,  -2.19157003e-02],\n",
       "              [  4.31545302e-02,  -9.46905762e-02,  -2.47566197e-02, ...,\n",
       "                 1.73311196e-02,  -5.46254814e-02,   1.20460674e-01],\n",
       "              ..., \n",
       "              [ -9.46367830e-02,  -3.11416648e-02,  -6.74123690e-02, ...,\n",
       "                -8.93342048e-02,   9.92205739e-02,  -9.76815000e-02],\n",
       "              [  3.98323126e-02,   7.50068501e-02,  -8.09858069e-02, ...,\n",
       "                 1.24530479e-01,   2.92150658e-02,   1.44665092e-01],\n",
       "              [  4.92637865e-02,  -1.47809172e-02,  -5.72163872e-02, ...,\n",
       "                -1.63858868e-02,  -4.14134115e-02,   9.07438248e-02]]]])"
      ]
     },
     "execution_count": 5,
     "metadata": {},
     "output_type": "execute_result"
    }
   ],
   "source": [
    "# Wとbにはそれぞれこんなのが入っている\n",
    "ggn.conv1.W"
   ]
  },
  {
   "cell_type": "code",
   "execution_count": 6,
   "metadata": {},
   "outputs": [
    {
     "data": {
      "text/plain": [
       "variable b([ 0.,  0.,  0.,  0.,  0.,  0.,  0.,  0.,  0.,  0.,  0.,  0.,\n",
       "             0.,  0.,  0.,  0.,  0.,  0.,  0.,  0.,  0.,  0.,  0.,  0.,\n",
       "             0.,  0.,  0.,  0.,  0.,  0.,  0.,  0.,  0.,  0.,  0.,  0.,\n",
       "             0.,  0.,  0.,  0.,  0.,  0.,  0.,  0.,  0.,  0.,  0.,  0.,\n",
       "             0.,  0.,  0.,  0.,  0.,  0.,  0.,  0.,  0.,  0.,  0.,  0.,\n",
       "             0.,  0.,  0.,  0.])"
      ]
     },
     "execution_count": 6,
     "metadata": {},
     "output_type": "execute_result"
    }
   ],
   "source": [
    "ggn.conv1.b"
   ]
  },
  {
   "cell_type": "markdown",
   "metadata": {},
   "source": [
    "## gnn に 読み込んだmodelを確認コピーする"
   ]
  },
  {
   "cell_type": "code",
   "execution_count": 7,
   "metadata": {},
   "outputs": [
    {
     "data": {
      "text/plain": [
       "(64, 3, 7, 7)"
      ]
     },
     "execution_count": 7,
     "metadata": {},
     "output_type": "execute_result"
    }
   ],
   "source": [
    "# コピー先\n",
    "ggn.conv1.W.shape"
   ]
  },
  {
   "cell_type": "code",
   "execution_count": 8,
   "metadata": {},
   "outputs": [
    {
     "data": {
      "text/plain": [
       "(64, 3, 7, 7)"
      ]
     },
     "execution_count": 8,
     "metadata": {},
     "output_type": "execute_result"
    }
   ],
   "source": [
    "# コピー元\n",
    "model['conv1/7x7_s2'].W.shape"
   ]
  },
  {
   "cell_type": "code",
   "execution_count": 9,
   "metadata": {},
   "outputs": [
    {
     "data": {
      "image/png": "[encoded data removed]",
      "text/plain": [
       "<matplotlib.figure.Figure at 0x1140736d8>"
      ]
     },
     "metadata": {},
     "output_type": "display_data"
    }
   ],
   "source": [
    "# 初期化しかされていない畳み込みフィルタの一つ\n",
    "plt.subplot(211)\n",
    "plt.imshow(ggn.conv1.W[0,0].data)\n",
    "\n",
    "plt.subplot(212)\n",
    "plt.plot(ggn.conv1.b.data)\n",
    "plt.show()"
   ]
  },
  {
   "cell_type": "code",
   "execution_count": 10,
   "metadata": {},
   "outputs": [
    {
     "data": {
      "image/png": "[encoded data removed]",
      "text/plain": [
       "<matplotlib.figure.Figure at 0x114073470>"
      ]
     },
     "metadata": {},
     "output_type": "display_data"
    }
   ],
   "source": [
    "# 学習済の畳み込みフィルタの一つ\n",
    "\n",
    "plt.subplot(211)\n",
    "plt.imshow(model['conv1/7x7_s2'].W[0,0].data)\n",
    "\n",
    "plt.subplot(212)\n",
    "plt.plot(model['conv1/7x7_s2'].b.data)\n",
    "plt.show()"
   ]
  },
  {
   "cell_type": "code",
   "execution_count": 11,
   "metadata": {
    "collapsed": true
   },
   "outputs": [],
   "source": [
    "# コピーする\n",
    "ggn.conv1.W = model['conv1/7x7_s2'].W\n",
    "ggn.conv1.b = model['conv1/7x7_s2'].b"
   ]
  },
  {
   "cell_type": "code",
   "execution_count": 12,
   "metadata": {},
   "outputs": [
    {
     "data": {
      "image/png": "[encoded data removed]",
      "text/plain": [
       "<matplotlib.figure.Figure at 0x1188e1da0>"
      ]
     },
     "metadata": {},
     "output_type": "display_data"
    }
   ],
   "source": [
    "# [再実行]初期化しかされていない畳み込みフィルタの一つ\n",
    "plt.subplot(211)\n",
    "plt.imshow(ggn.conv1.W[0,0].data)\n",
    "\n",
    "plt.subplot(212)\n",
    "plt.plot(ggn.conv1.b.data)\n",
    "plt.show()"
   ]
  },
  {
   "cell_type": "markdown",
   "metadata": {},
   "source": [
    "# 更新を許容するか決める"
   ]
  },
  {
   "cell_type": "code",
   "execution_count": 41,
   "metadata": {
    "collapsed": true
   },
   "outputs": [],
   "source": [
    "ggn.enable_update()"
   ]
  },
  {
   "cell_type": "code",
   "execution_count": 42,
   "metadata": {},
   "outputs": [
    {
     "data": {
      "text/plain": [
       "False"
      ]
     },
     "execution_count": 42,
     "metadata": {},
     "output_type": "execute_result"
    }
   ],
   "source": [
    "ggn.update_enabled"
   ]
  },
  {
   "cell_type": "code",
   "execution_count": null,
   "metadata": {
    "collapsed": true
   },
   "outputs": [],
   "source": []
  }
 ],
 "metadata": {
  "kernelspec": {
   "display_name": "Python 3",
   "language": "python",
   "name": "python3"
  },
  "language_info": {
   "codemirror_mode": {
    "name": "ipython",
    "version": 3
   },
   "file_extension": ".py",
   "mimetype": "text/x-python",
   "name": "python",
   "nbconvert_exporter": "python",
   "pygments_lexer": "ipython3",
   "version": "3.6.0"
  },
  "varInspector": {
   "cols": {
    "lenName": 16,
    "lenType": 16,
    "lenVar": 40
   },
   "kernels_config": {
    "python": {
     "delete_cmd_postfix": "",
     "delete_cmd_prefix": "del ",
     "library": "var_list.py",
     "varRefreshCmd": "print(var_dic_list())"
    },
    "r": {
     "delete_cmd_postfix": ") ",
     "delete_cmd_prefix": "rm(",
     "library": "var_list.r",
     "varRefreshCmd": "cat(var_dic_list()) "
    }
   },
   "types_to_exclude": [
    "module",
    "function",
    "builtin_function_or_method",
    "instance",
    "_Feature"
   ],
   "window_display": false
  }
 },
 "nbformat": 4,
 "nbformat_minor": 2
}
