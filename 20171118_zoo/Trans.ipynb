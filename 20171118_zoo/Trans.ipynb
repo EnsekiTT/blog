{
 "cells": [
  {
   "cell_type": "code",
   "execution_count": 1,
   "metadata": {
    "collapsed": true
   },
   "outputs": [],
   "source": [
    "import os\n",
    "import pickle\n",
    "from PIL import Image\n",
    "import numpy as np\n",
    "import chainer\n",
    "from chainer import cuda, Function, gradient_check, report, training, utils, Variable\n",
    "from chainer import datasets, iterators, optimizers, serializers\n",
    "from chainer import Link, Chain, ChainList\n",
    "import chainer.functions as F\n",
    "import chainer.links as L\n",
    "from chainer.training import extensions\n",
    "from chainer.links.caffe import CaffeFunction\n",
    "\n",
    "from matplotlib import pylab as plt"
   ]
  },
  {
   "cell_type": "markdown",
   "metadata": {},
   "source": [
    "# モデルの読み込み"
   ]
  },
  {
   "cell_type": "code",
   "execution_count": 2,
   "metadata": {},
   "outputs": [
    {
     "name": "stdout",
     "output_type": "stream",
     "text": [
      "Load pickle\n",
      "CPU times: user 73.6 ms, sys: 103 ms, total: 176 ms\n",
      "Wall time: 312 ms\n"
     ]
    }
   ],
   "source": [
    "%%time\n",
    "MODEL = 'model/bvlc_googlenet.caffemodel'\n",
    "PICKLE = 'model/ggnet.pkl'\n",
    "if os.path.exists(PICKLE):\n",
    "    print(\"Load pickle\")\n",
    "    with open(PICKLE, 'rb') as pkl:\n",
    "        model = pickle.load(pkl)\n",
    "else:\n",
    "    print(\"Load caffemodel and make pickle\")\n",
    "    if os.path.exists(MODEL):\n",
    "        model = CaffeFunction(MODEL)\n",
    "        with open(PICKLE, 'wb') as pkl:\n",
    "            pickle.dump(model, pkl)\n",
    "    print(MODEL + \" not found.\")"
   ]
  },
  {
   "cell_type": "markdown",
   "metadata": {},
   "source": [
    "# GoogLeNetのモデル"
   ]
  },
  {
   "cell_type": "code",
   "execution_count": 3,
   "metadata": {
    "collapsed": true
   },
   "outputs": [],
   "source": [
    "class GoogLeNet(Chain):\n",
    "    insize = 224\n",
    "    \n",
    "    def __init__(self):\n",
    "        super(GoogLeNet, self).__init__()\n",
    "        with self.init_scope():\n",
    "            self.conv1 =  L.Convolution2D(3, 64, 7, stride=2, pad=3)\n",
    "            self.conv2_reduce = L.Convolution2D(64, 64, 1)\n",
    "            self.conv2 = L.Convolution2D(64, 192, 3, stride=1, pad=1)\n",
    "            self.inception_3a = L.Inception(192, 64, 96, 128, 16, 32, 32)\n",
    "            self.inception_3b = L.Inception(256, 128, 128, 192, 32, 96, 64)\n",
    "            self.inception_4a = L.Inception(480, 192, 96, 208, 16, 48, 64)\n",
    "            self.inception_4b = L.Inception(512, 160, 112, 224, 24, 64, 64)\n",
    "            self.inception_4c = L.Inception(512, 128, 128, 256, 24, 64, 64)\n",
    "            self.inception_4d = L.Inception(512, 112, 144, 288, 32, 64, 64)\n",
    "            self.inception_4e = L.Inception(528, 256, 160, 320, 32, 128, 128)\n",
    "            self.inception_5a = L.Inception(832, 256, 160, 320, 32, 128, 128)\n",
    "            self.inception_5b = L.Inception(832, 384, 192, 384, 48, 128, 128)\n",
    "            loss3_fc = L.Linear(1024, 1000)\n",
    "            \n",
    "            loss1_conv = L.Convolution2D(512, 128, 1)\n",
    "            loss1_fc1 = L.Linear(2048, 1024)\n",
    "            loss1_fc2 = L.Linear(1024, 1000)\n",
    "            \n",
    "            loss2_conv = L.Convolution2D(528, 128, 1)\n",
    "            loss2_fc1 = L.Linear(2048, 1024)\n",
    "            loss2_fc2 = L.Linear(1024, 1000)\n",
    "        \n",
    "    def __call__(self, x, train=True):\n",
    "        h = F.relu(self.conv1(x))\n",
    "        h = F.max_pooling_2d(h, 3, stride=2)\n",
    "        h = F.local_response_normalization(h, n=5, k=1, alpha=2e-05)\n",
    "        h = F.relu(self.conv2_reduce(h))\n",
    "        h = F.relu(self.conv2(h))\n",
    "        h = F.local_response_normalization(h, n=5, k=1, alpha=2e-05)\n",
    "        h = F.max_pooling_2d(h, 3, stride=2)\n",
    "        \n",
    "        h = self.inception_3a(h)\n",
    "        h = self.inception_3b(h)\n",
    "        h = F.max_pooling_2d(h, 3, stride=2)\n",
    "        h = self.inception_4a(h)\n",
    "        \n",
    "        b = F.average_pooling_2d(h, 5, stride=3)\n",
    "        b = F.relu(self.loss1_conv(b))\n",
    "        b = F.relu(self.loss1_fc1(b))\n",
    "        b = self.loss1_fc2(b)\n",
    "        \n",
    "        h = self.inception_4b(h)\n",
    "        h = self.inception_4c(h)\n",
    "        h = self.inception_4d(h)\n",
    "        \n",
    "        b = F.average_pooling_2d(h, 5, stride=3)\n",
    "        b = F.relu(self.loss2_conv(b))\n",
    "        b = F.relu(self.loss2_fc1(b))\n",
    "        b = self.loss2_fc2(b)\n",
    "        \n",
    "        h = self.inception_4e(h)\n",
    "        h = F.max_pooling_2d(h, 3, stride=2)\n",
    "        h = self.inception_5a(h)\n",
    "        h = self.inception_5b(h)\n",
    "        \n",
    "        h = F.average_pooling_2d(h, 7, stride=1)\n",
    "        y = self.loss3_fc(F.dropout(h, 0.4, train=train))\n",
    "        return y"
   ]
  },
  {
   "cell_type": "code",
   "execution_count": 4,
   "metadata": {
    "collapsed": true
   },
   "outputs": [],
   "source": [
    "ggn = GoogLeNet()"
   ]
  },
  {
   "cell_type": "markdown",
   "metadata": {},
   "source": [
    "# モデルの係数をコピーする"
   ]
  },
  {
   "cell_type": "code",
   "execution_count": 5,
   "metadata": {},
   "outputs": [
    {
     "data": {
      "text/plain": [
       "variable W([[[[ 0.05909594, -0.09986343, -0.04603548, ..., -0.09589277,\n",
       "                0.22298491, -0.01442515],\n",
       "              [ 0.15570667, -0.01997655,  0.07419758, ..., -0.05252106,\n",
       "               -0.05024625, -0.07798918],\n",
       "              [ 0.06177655, -0.15446343, -0.00166107, ..., -0.04529255,\n",
       "               -0.06741916,  0.08880506],\n",
       "              ..., \n",
       "              [-0.09892067, -0.01140509,  0.08337764, ...,  0.21760684,\n",
       "                0.04899437,  0.08849029],\n",
       "              [ 0.04602221, -0.05098505, -0.11391044, ..., -0.1419754 ,\n",
       "               -0.05374573,  0.07039803],\n",
       "              [-0.06356351, -0.01029518, -0.07607383, ...,  0.11859852,\n",
       "               -0.01197726, -0.03387409]],\n",
       "\n",
       "             [[-0.03400929, -0.03394393, -0.03381074, ...,  0.02872139,\n",
       "                0.00595249, -0.18781817],\n",
       "              [-0.12311996,  0.04233423,  0.09035315, ...,  0.07497294,\n",
       "                0.03957491, -0.11206054],\n",
       "              [-0.12080624, -0.0058114 ,  0.05202496, ...,  0.07148887,\n",
       "               -0.03238558, -0.11746872],\n",
       "              ..., \n",
       "              [-0.076736  ,  0.06621461,  0.02692587, ..., -0.07759918,\n",
       "               -0.03253165, -0.05804962],\n",
       "              [ 0.06409534,  0.0323133 , -0.05457104, ...,  0.09779839,\n",
       "                0.11540155,  0.01254919],\n",
       "              [-0.01639125, -0.03498987, -0.11870061, ...,  0.13118082,\n",
       "                0.05693224, -0.0203031 ]],\n",
       "\n",
       "             [[ 0.03472628, -0.06557218,  0.00323945, ..., -0.10680525,\n",
       "                0.095743  ,  0.01442505],\n",
       "              [ 0.1227176 ,  0.01753605,  0.03670312, ..., -0.04737295,\n",
       "               -0.0229083 , -0.07062754],\n",
       "              [ 0.17478019, -0.03482463,  0.06218264, ...,  0.20494497,\n",
       "                0.04968493,  0.04463025],\n",
       "              ..., \n",
       "              [-0.00832047,  0.13290058,  0.04543421, ..., -0.06453042,\n",
       "                0.01782819, -0.01400807],\n",
       "              [-0.1920232 , -0.06065543, -0.12291448, ..., -0.01346296,\n",
       "                0.08623265, -0.02136672],\n",
       "              [-0.06837598,  0.05954504,  0.01640023, ..., -0.08640452,\n",
       "                0.12519839,  0.03031639]]],\n",
       "\n",
       "\n",
       "            [[[-0.03162266, -0.08175269, -0.05282904, ..., -0.06495848,\n",
       "               -0.02287838,  0.04912188],\n",
       "              [-0.01167469,  0.04739595,  0.06066776, ...,  0.08288445,\n",
       "                0.0146236 , -0.03533759],\n",
       "              [ 0.02316272,  0.06451823,  0.20351776, ..., -0.04807651,\n",
       "               -0.04679269, -0.04789285],\n",
       "              ..., \n",
       "              [-0.07816814,  0.01845869,  0.0065501 , ...,  0.06777947,\n",
       "               -0.00864882, -0.14082044],\n",
       "              [-0.04871083, -0.00064134,  0.08009724, ...,  0.00424007,\n",
       "               -0.01110138,  0.06346732],\n",
       "              [-0.03745857, -0.01641836,  0.02794369, ..., -0.01532816,\n",
       "               -0.03617953, -0.01512452]],\n",
       "\n",
       "             [[ 0.04468424, -0.12245022, -0.03337485, ...,  0.05018357,\n",
       "               -0.09734759,  0.01981667],\n",
       "              [ 0.11843533,  0.02144926,  0.08718678, ...,  0.11204831,\n",
       "               -0.13178264, -0.01290767],\n",
       "              [-0.07208155,  0.11010125,  0.1165197 , ..., -0.01159016,\n",
       "                0.02581828, -0.07813156],\n",
       "              ..., \n",
       "              [ 0.01740857, -0.05608699, -0.08190604, ..., -0.01113821,\n",
       "                0.12671019,  0.20005946],\n",
       "              [ 0.10982487, -0.01463213,  0.04390372, ...,  0.00046639,\n",
       "                0.17375268, -0.07590175],\n",
       "              [-0.14066416, -0.02809432,  0.00282248, ...,  0.09043092,\n",
       "               -0.0545785 ,  0.12908362]],\n",
       "\n",
       "             [[-0.07012294, -0.14188524, -0.08874703, ..., -0.05425149,\n",
       "               -0.05383079, -0.13405775],\n",
       "              [-0.11275593, -0.10942236,  0.0439957 , ..., -0.11579031,\n",
       "                0.03325393,  0.02562914],\n",
       "              [-0.02847859,  0.03722439,  0.09428647, ..., -0.01785523,\n",
       "                0.01076074,  0.0077616 ],\n",
       "              ..., \n",
       "              [-0.03784532, -0.07520091,  0.06422523, ..., -0.04037231,\n",
       "               -0.05061578, -0.06387617],\n",
       "              [ 0.10914278,  0.11970256,  0.01422962, ...,  0.09731746,\n",
       "                0.10374003,  0.13536185],\n",
       "              [-0.02313319,  0.03773468,  0.13029653, ...,  0.00459059,\n",
       "               -0.14951263, -0.04340484]]],\n",
       "\n",
       "\n",
       "            [[[-0.11329047, -0.07098217, -0.22622107, ...,  0.10256431,\n",
       "               -0.05550201,  0.00283833],\n",
       "              [-0.05725902, -0.12857009,  0.1341009 , ..., -0.05674319,\n",
       "               -0.10307565,  0.15585285],\n",
       "              [-0.02092141, -0.05504255,  0.00985223, ..., -0.12434314,\n",
       "               -0.12551856, -0.05197424],\n",
       "              ..., \n",
       "              [ 0.04639916, -0.02378573, -0.06275711, ...,  0.04214321,\n",
       "                0.09311891,  0.17617813],\n",
       "              [-0.05229659,  0.08424427,  0.16837759, ...,  0.04358762,\n",
       "                0.06229345,  0.07144108],\n",
       "              [-0.08803698, -0.07771436,  0.10000283, ...,  0.00987877,\n",
       "                0.0159138 , -0.00558098]],\n",
       "\n",
       "             [[-0.05905529,  0.05073658, -0.17986858, ..., -0.04106834,\n",
       "                0.02345661, -0.01852513],\n",
       "              [-0.04022065,  0.11643733, -0.03989868, ...,  0.07058221,\n",
       "                0.12225825,  0.20174748],\n",
       "              [-0.04265952, -0.10864197, -0.10491122, ..., -0.02505916,\n",
       "                0.00350516, -0.03438003],\n",
       "              ..., \n",
       "              [-0.02597211, -0.03103968, -0.02048574, ..., -0.00599524,\n",
       "               -0.01358015,  0.11745292],\n",
       "              [-0.13813293,  0.06357182, -0.06552278, ..., -0.06115934,\n",
       "               -0.00175708, -0.00707738],\n",
       "              [-0.12426738, -0.01633508,  0.22149216, ...,  0.10048364,\n",
       "               -0.01616392, -0.08950988]],\n",
       "\n",
       "             [[-0.09591076, -0.01518387,  0.08295471, ..., -0.02497629,\n",
       "                0.0424955 , -0.1525384 ],\n",
       "              [ 0.09641811,  0.03456286, -0.04690509, ..., -0.09104235,\n",
       "                0.02312261,  0.07702594],\n",
       "              [ 0.01667679, -0.02211896, -0.0603067 , ...,  0.10638709,\n",
       "                0.01726331,  0.01605885],\n",
       "              ..., \n",
       "              [-0.00620873, -0.03359727,  0.05992312, ...,  0.03821971,\n",
       "               -0.11285538,  0.01745409],\n",
       "              [-0.09149826,  0.09623034, -0.05881543, ...,  0.08466533,\n",
       "               -0.02200241, -0.08873094],\n",
       "              [-0.01447959, -0.13729995,  0.04984817, ...,  0.11621471,\n",
       "                0.03920745, -0.01750674]]],\n",
       "\n",
       "\n",
       "            ..., \n",
       "            [[[-0.06367306,  0.04533484,  0.02455469, ...,  0.09382083,\n",
       "                0.05945471,  0.10308827],\n",
       "              [-0.00442769, -0.19837952, -0.02081213, ..., -0.0224852 ,\n",
       "                0.0140844 ,  0.06807855],\n",
       "              [-0.07527262, -0.13629623,  0.0567694 , ...,  0.01320695,\n",
       "                0.00534286, -0.00643189],\n",
       "              ..., \n",
       "              [-0.07946222, -0.02103721, -0.0435609 , ..., -0.02824563,\n",
       "               -0.07015716,  0.07578225],\n",
       "              [-0.1453914 , -0.06063396, -0.02895711, ..., -0.01594628,\n",
       "                0.1387911 ,  0.03498187],\n",
       "              [ 0.00651848,  0.08664736,  0.00106439, ..., -0.02319652,\n",
       "                0.13139032, -0.01551702]],\n",
       "\n",
       "             [[ 0.07158876, -0.05661602, -0.0775842 , ..., -0.02094814,\n",
       "               -0.01394785, -0.12411517],\n",
       "              [-0.10785598,  0.04961492, -0.01050633, ..., -0.15050222,\n",
       "               -0.09304058, -0.00175074],\n",
       "              [ 0.04026704, -0.02164659, -0.12291155, ..., -0.14745304,\n",
       "                0.00455713,  0.03288189],\n",
       "              ..., \n",
       "              [-0.12483531, -0.03833261, -0.08830495, ...,  0.0997101 ,\n",
       "               -0.11044189,  0.0330339 ],\n",
       "              [-0.0609856 , -0.090814  , -0.00496293, ...,  0.09496121,\n",
       "                0.04325733,  0.03009718],\n",
       "              [-0.03693587, -0.16453612, -0.03798787, ...,  0.00694473,\n",
       "               -0.01752895,  0.04967742]],\n",
       "\n",
       "             [[ 0.04356282, -0.0283969 ,  0.16029456, ..., -0.08271107,\n",
       "                0.01098072, -0.0366661 ],\n",
       "              [ 0.07590192, -0.05121049, -0.07756606, ...,  0.03982382,\n",
       "               -0.12625338, -0.03340105],\n",
       "              [ 0.08434566, -0.1287448 , -0.08693247, ...,  0.10377787,\n",
       "               -0.05672648, -0.02569542],\n",
       "              ..., \n",
       "              [-0.07008921,  0.00798916, -0.0531319 , ...,  0.02483387,\n",
       "               -0.14490333,  0.05657571],\n",
       "              [ 0.23863497, -0.03005872,  0.03482117, ..., -0.08686798,\n",
       "                0.12594193, -0.01413084],\n",
       "              [ 0.11595517, -0.02085246,  0.03594304, ..., -0.09776712,\n",
       "               -0.04703117,  0.09374928]]],\n",
       "\n",
       "\n",
       "            [[[ 0.03594508,  0.02344808,  0.03044021, ...,  0.14280903,\n",
       "                0.05263435, -0.02369038],\n",
       "              [ 0.01862352, -0.0657509 , -0.10488085, ...,  0.13455069,\n",
       "               -0.11678212, -0.02347327],\n",
       "              [ 0.03189136, -0.14465001,  0.09850267, ..., -0.02356018,\n",
       "               -0.14657375, -0.13251653],\n",
       "              ..., \n",
       "              [ 0.00837818, -0.01653873, -0.09764722, ...,  0.0578984 ,\n",
       "                0.04891105,  0.08539556],\n",
       "              [ 0.02888393,  0.0781633 , -0.05964197, ...,  0.06171044,\n",
       "                0.03236324, -0.08089405],\n",
       "              [ 0.05999491,  0.05209982,  0.13347875, ..., -0.10810086,\n",
       "               -0.02867687, -0.01848017]],\n",
       "\n",
       "             [[-0.08714381, -0.10049345,  0.07893395, ...,  0.0852502 ,\n",
       "                0.04336685, -0.08467013],\n",
       "              [-0.04866539,  0.04333854, -0.01728064, ...,  0.13920869,\n",
       "                0.09000525,  0.04875277],\n",
       "              [ 0.00995405, -0.04024296, -0.09642488, ...,  0.08223867,\n",
       "               -0.06009089, -0.07103422],\n",
       "              ..., \n",
       "              [ 0.1014662 ,  0.00814015, -0.02528916, ...,  0.09932061,\n",
       "                0.02467661,  0.1598669 ],\n",
       "              [ 0.24375424, -0.03859096,  0.03138519, ...,  0.03541366,\n",
       "               -0.05067547,  0.09491228],\n",
       "              [ 0.09266474, -0.03504941, -0.01087567, ...,  0.00399522,\n",
       "                0.08725715,  0.08792616]],\n",
       "\n",
       "             [[ 0.09072239,  0.15594043,  0.01167862, ..., -0.06749521,\n",
       "               -0.06679814,  0.09007505],\n",
       "              [-0.02866751, -0.10431404,  0.00936799, ..., -0.00407431,\n",
       "                0.02874465, -0.01647728],\n",
       "              [-0.03233986,  0.04349775, -0.08470859, ..., -0.12682028,\n",
       "               -0.04002984, -0.1079281 ],\n",
       "              ..., \n",
       "              [ 0.15862577, -0.02924614, -0.01338716, ..., -0.00599658,\n",
       "               -0.05198282, -0.1078314 ],\n",
       "              [ 0.16235302, -0.02705588,  0.08771677, ...,  0.04675723,\n",
       "                0.04759826,  0.12087288],\n",
       "              [-0.05026799,  0.06808954,  0.01083287, ..., -0.03036279,\n",
       "               -0.05459074, -0.23701486]]],\n",
       "\n",
       "\n",
       "            [[[-0.17582768, -0.00431137, -0.05705316, ...,  0.02198821,\n",
       "               -0.07435425, -0.02245029],\n",
       "              [-0.00959113, -0.04069008,  0.00307627, ..., -0.13282329,\n",
       "               -0.0477343 ,  0.02395808],\n",
       "              [-0.02539962,  0.05816948,  0.06798559, ...,  0.01672516,\n",
       "                0.08579852, -0.03942616],\n",
       "              ..., \n",
       "              [ 0.11444499, -0.04984141,  0.15291761, ...,  0.1229875 ,\n",
       "                0.00869705,  0.03266192],\n",
       "              [-0.05438861,  0.07255376,  0.20328674, ...,  0.04464586,\n",
       "               -0.13495828, -0.02194764],\n",
       "              [ 0.07811376, -0.09921256,  0.02724303, ...,  0.01875092,\n",
       "                0.0980131 , -0.10749509]],\n",
       "\n",
       "             [[-0.00515957,  0.00704507, -0.00068774, ...,  0.11890972,\n",
       "               -0.0815914 , -0.0051318 ],\n",
       "              [ 0.06222137,  0.02335175,  0.11803033, ..., -0.17842768,\n",
       "               -0.00454576,  0.06789757],\n",
       "              [ 0.05905322, -0.04293582, -0.00390307, ...,  0.08227557,\n",
       "                0.12951621, -0.07800612],\n",
       "              ..., \n",
       "              [ 0.03061938,  0.10420847, -0.01839282, ...,  0.01894286,\n",
       "                0.08872066,  0.10404837],\n",
       "              [-0.03891443,  0.03000329, -0.10872036, ...,  0.03206386,\n",
       "               -0.03260356,  0.0092247 ],\n",
       "              [ 0.03883613,  0.09094246,  0.08931775, ...,  0.00170178,\n",
       "                0.10286923,  0.0922551 ]],\n",
       "\n",
       "             [[-0.04928933, -0.16975631, -0.06556594, ..., -0.10100879,\n",
       "                0.10592774, -0.03172646],\n",
       "              [-0.08944702, -0.16399124, -0.03090521, ...,  0.07967015,\n",
       "                0.03450184,  0.04451513],\n",
       "              [-0.00069999, -0.01212052, -0.02749656, ...,  0.03066209,\n",
       "                0.06611464, -0.06949086],\n",
       "              ..., \n",
       "              [-0.03714763, -0.03129531,  0.00926419, ..., -0.01187649,\n",
       "               -0.00542035,  0.0091375 ],\n",
       "              [-0.05109341,  0.00541428, -0.22379665, ..., -0.14468051,\n",
       "               -0.08711002, -0.19728215],\n",
       "              [ 0.17985582,  0.04180116,  0.14364728, ..., -0.11523947,\n",
       "                0.09185173,  0.06273861]]]])"
      ]
     },
     "execution_count": 5,
     "metadata": {},
     "output_type": "execute_result"
    }
   ],
   "source": [
    "# Wとbにはそれぞれこんなのが入っている\n",
    "ggn.conv1.W"
   ]
  },
  {
   "cell_type": "code",
   "execution_count": 6,
   "metadata": {},
   "outputs": [
    {
     "data": {
      "text/plain": [
       "variable b([ 0.,  0.,  0.,  0.,  0.,  0.,  0.,  0.,  0.,  0.,  0.,  0.,\n",
       "             0.,  0.,  0.,  0.,  0.,  0.,  0.,  0.,  0.,  0.,  0.,  0.,\n",
       "             0.,  0.,  0.,  0.,  0.,  0.,  0.,  0.,  0.,  0.,  0.,  0.,\n",
       "             0.,  0.,  0.,  0.,  0.,  0.,  0.,  0.,  0.,  0.,  0.,  0.,\n",
       "             0.,  0.,  0.,  0.,  0.,  0.,  0.,  0.,  0.,  0.,  0.,  0.,\n",
       "             0.,  0.,  0.,  0.])"
      ]
     },
     "execution_count": 6,
     "metadata": {},
     "output_type": "execute_result"
    }
   ],
   "source": [
    "ggn.conv1.b"
   ]
  },
  {
   "cell_type": "markdown",
   "metadata": {},
   "source": [
    "## gnn に 読み込んだmodelを確認コピーする"
   ]
  },
  {
   "cell_type": "code",
   "execution_count": 7,
   "metadata": {},
   "outputs": [
    {
     "data": {
      "text/plain": [
       "(64, 3, 7, 7)"
      ]
     },
     "execution_count": 7,
     "metadata": {},
     "output_type": "execute_result"
    }
   ],
   "source": [
    "# コピー先\n",
    "ggn.conv1.W.shape"
   ]
  },
  {
   "cell_type": "code",
   "execution_count": 8,
   "metadata": {},
   "outputs": [
    {
     "data": {
      "text/plain": [
       "(64, 3, 7, 7)"
      ]
     },
     "execution_count": 8,
     "metadata": {},
     "output_type": "execute_result"
    }
   ],
   "source": [
    "# コピー元\n",
    "model['conv1/7x7_s2'].W.shape"
   ]
  },
  {
   "cell_type": "code",
   "execution_count": 9,
   "metadata": {},
   "outputs": [
    {
     "data": {
      "image/png": "[encoded data removed]",
      "text/plain": [
       "<matplotlib.figure.Figure at 0x10fdb19e8>"
      ]
     },
     "metadata": {},
     "output_type": "display_data"
    }
   ],
   "source": [
    "# 初期化しかされていない畳み込みフィルタの一つ\n",
    "plt.subplot(211)\n",
    "plt.imshow(ggn.conv1.W[0,0].data)\n",
    "\n",
    "plt.subplot(212)\n",
    "plt.plot(ggn.conv1.b.data)\n",
    "plt.show()"
   ]
  },
  {
   "cell_type": "code",
   "execution_count": 10,
   "metadata": {},
   "outputs": [
    {
     "data": {
      "image/png": "[encoded data removed]",
      "text/plain": [
       "<matplotlib.figure.Figure at 0x11bfc57f0>"
      ]
     },
     "metadata": {},
     "output_type": "display_data"
    }
   ],
   "source": [
    "# 学習済の畳み込みフィルタの一つ\n",
    "\n",
    "plt.subplot(211)\n",
    "plt.imshow(model['conv1/7x7_s2'].W[0,0].data)\n",
    "\n",
    "plt.subplot(212)\n",
    "plt.plot(model['conv1/7x7_s2'].b.data)\n",
    "plt.show()"
   ]
  },
  {
   "cell_type": "code",
   "execution_count": 13,
   "metadata": {},
   "outputs": [],
   "source": [
    "# コピーする\n",
    "ggn.conv1.W = model['conv1/7x7_s2'].W\n",
    "ggn.conv1.b = model['conv1/7x7_s2'].b\n",
    "ggn.conv2.W = model['conv2/3x3'].W\n",
    "ggn.conv2.b = model['conv2/3x3'].b\n",
    "ggn.conv2_reduce.W = model['conv2/3x3_reduce'].W\n",
    "ggn.conv2_reduce.b = model['conv2/3x3_reduce'].b\n",
    "ggn.inception_3a.conv1.W = model['inception_3a/1x1'].W\n",
    "ggn.inception_3a.conv1.b = model['inception_3a/1x1'].b\n",
    "ggn.inception_3a.conv3.W = model['inception_3a/3x3'].W\n",
    "ggn.inception_3a.conv3.b = model['inception_3a/3x3'].b\n",
    "ggn.inception_3a.conv5.W = model['inception_3a/5x5'].W\n",
    "ggn.inception_3a.conv5.b = model['inception_3a/5x5'].b\n",
    "ggn.inception_3b.conv1.W = model['inception_3b/1x1'].W\n",
    "ggn.inception_3b.conv1.b = model['inception_3b/1x1'].b"
   ]
  },
  {
   "cell_type": "markdown",
   "metadata": {},
   "source": [
    "# オプティマイザを定義する"
   ]
  },
  {
   "cell_type": "code",
   "execution_count": 23,
   "metadata": {
    "collapsed": true
   },
   "outputs": [],
   "source": [
    "optimizer = chainer.optimizers.AdaGrad()\n",
    "optimizer.setup(ggn)"
   ]
  },
  {
   "cell_type": "markdown",
   "metadata": {},
   "source": [
    "# 更新を許容するか決める"
   ]
  },
  {
   "cell_type": "code",
   "execution_count": 17,
   "metadata": {
    "collapsed": true
   },
   "outputs": [],
   "source": [
    "ggn.conv1.enable_update()"
   ]
  },
  {
   "cell_type": "code",
   "execution_count": 18,
   "metadata": {},
   "outputs": [
    {
     "data": {
      "text/plain": [
       "True"
      ]
     },
     "execution_count": 18,
     "metadata": {},
     "output_type": "execute_result"
    }
   ],
   "source": [
    "ggn.conv1.update_enabled"
   ]
  },
  {
   "cell_type": "code",
   "execution_count": 19,
   "metadata": {
    "collapsed": true
   },
   "outputs": [],
   "source": [
    "ggn.conv1.disable_update()"
   ]
  },
  {
   "cell_type": "code",
   "execution_count": 20,
   "metadata": {},
   "outputs": [
    {
     "data": {
      "text/plain": [
       "False"
      ]
     },
     "execution_count": 20,
     "metadata": {},
     "output_type": "execute_result"
    }
   ],
   "source": [
    "ggn.conv1.update_enabled"
   ]
  },
  {
   "cell_type": "code",
   "execution_count": null,
   "metadata": {
    "collapsed": true
   },
   "outputs": [],
   "source": []
  }
 ],
 "metadata": {
  "kernelspec": {
   "display_name": "Python 3",
   "language": "python",
   "name": "python3"
  },
  "language_info": {
   "codemirror_mode": {
    "name": "ipython",
    "version": 3
   },
   "file_extension": ".py",
   "mimetype": "text/x-python",
   "name": "python",
   "nbconvert_exporter": "python",
   "pygments_lexer": "ipython3",
   "version": "3.6.0"
  },
  "varInspector": {
   "cols": {
    "lenName": 16,
    "lenType": 16,
    "lenVar": 40
   },
   "kernels_config": {
    "python": {
     "delete_cmd_postfix": "",
     "delete_cmd_prefix": "del ",
     "library": "var_list.py",
     "varRefreshCmd": "print(var_dic_list())"
    },
    "r": {
     "delete_cmd_postfix": ") ",
     "delete_cmd_prefix": "rm(",
     "library": "var_list.r",
     "varRefreshCmd": "cat(var_dic_list()) "
    }
   },
   "types_to_exclude": [
    "module",
    "function",
    "builtin_function_or_method",
    "instance",
    "_Feature"
   ],
   "window_display": false
  }
 },
 "nbformat": 4,
 "nbformat_minor": 2
}
