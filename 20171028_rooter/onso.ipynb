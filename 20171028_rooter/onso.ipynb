{
 "cells": [
  {
   "cell_type": "code",
   "execution_count": 2,
   "metadata": {
    "collapsed": true
   },
   "outputs": [],
   "source": [
    "text = \"\"\"{\"キャ\"=>\"k yy a \"},\n",
    "  {\"キュ\"=>\"k yy u \"},\n",
    "  {\"キョ\"=>\"k yy o \"},\n",
    "  {\"ギャ\"=>\"g yy a \"},\n",
    "  {\"ギュ\"=>\"g yy u \"},\n",
    "  {\"ギョ\"=>\"g yy o \"},\n",
    "  {\"シャ\"=>\"sh a \"},\n",
    "  {\"シュ\"=>\"sh u \"},\n",
    "  {\"シェ\"=>\"sh e \"},\n",
    "  {\"ショ\"=>\"sh o \"},\n",
    "  {\"ジャ\"=>\"j a \"},\n",
    "  {\"ジュ\"=>\"j u \"},\n",
    "  {\"ジェ\"=>\"j e \"},\n",
    "  {\"ジョ\"=>\"j o \"},\n",
    "  {\"チャ\"=>\"ch a \"},\n",
    "  {\"チュ\"=>\"ch u \"},\n",
    "  {\"チェ\"=>\"ch e \"},\n",
    "  {\"チョ\"=>\"ch o \"},\n",
    "  {\"ツァ\"=>\"ts a \"},\n",
    "  {\"ツィ\"=>\"ts i \"},\n",
    "  {\"ツェ\"=>\"ts e \"},\n",
    "  {\"ツォ\"=>\"ts o \"},\n",
    "  {\"ティ\"=>\"t i \"},\n",
    "  {\"トゥ\"=>\"t u \"},\n",
    "  {\"ヂャ\"=>\"j a \"},\n",
    "  {\"ヂュ\"=>\"j u \"},\n",
    "  {\"ヂェ\"=>\"j e \"},\n",
    "  {\"ヂョ\"=>\"j o \"},\n",
    "  {\"ディ\"=>\"d i \"},\n",
    "  {\"ドゥ\"=>\"d u \"},\n",
    "  {\"ニャ\"=>\"n yy a \"},\n",
    "  {\"ニュ\"=>\"n yy u \"},\n",
    "  {\"ニョ\"=>\"n yy o \"},\n",
    "  {\"ヒャ\"=>\"h yy a \"},\n",
    "  {\"ヒュ\"=>\"h yy u \"},\n",
    "  {\"ヒョ\"=>\"h yy o \"},\n",
    "  {\"ファ\"=>\"f a \"},\n",
    "  {\"フィ\"=>\"f i \"},\n",
    "  {\"フェ\"=>\"f e \"},\n",
    "  {\"フォ\"=>\"f o \"},\n",
    "  {\"ビャ\"=>\"b yy a \"},\n",
    "  {\"ビュ\"=>\"b yy u \"},\n",
    "  {\"ビョ\"=>\"b yy o \"},\n",
    "  {\"ピャ\"=>\"p yy a \"},\n",
    "  {\"ピュ\"=>\"p yy u \"},\n",
    "  {\"ピョ\"=>\"p yy o \"},\n",
    "  {\"ミャ\"=>\"m yy a \"},\n",
    "  {\"ミュ\"=>\"m yy u \"},\n",
    "  {\"ミョ\"=>\"m yy o \"},\n",
    "  {\"リャ\"=>\"r yy a \"},\n",
    "  {\"リュ\"=>\"r yy u \"},\n",
    "  {\"リョ\"=>\"r yy o \"},\n",
    "  {\"ウィ\"=>\"w i \"},\n",
    "  {\"ウェ\"=>\"w e \"},\n",
    "  {\"ウォ\"=>\"w o \"},\n",
    "  {\"ア\"=>\"a \"},\n",
    "  {\"イ\"=>\"i \"},\n",
    "  {\"ウ\"=>\"u \"},\n",
    "  {\"エ\"=>\"e \"},\n",
    "  {\"オ\"=>\"o \"},\n",
    "  {\"カ\"=>\"k a \"},\n",
    "  {\"キ\"=>\"k i \"},\n",
    "  {\"ク\"=>\"k u \"},\n",
    "  {\"ケ\"=>\"k e \"},\n",
    "  {\"コ\"=>\"k o \"},\n",
    "  {\"ガ\"=>\"g a \"},\n",
    "  {\"ギ\"=>\"g i \"},\n",
    "  {\"グ\"=>\"g u \"},\n",
    "  {\"ゲ\"=>\"g e \"},\n",
    "  {\"ゴ\"=>\"g o \"},\n",
    "  {\"サ\"=>\"s a \"},\n",
    "  {\"シ\"=>\"sh i \"},\n",
    "  {\"ス\"=>\"s u \"},\n",
    "  {\"セ\"=>\"s e \"},\n",
    "  {\"ソ\"=>\"s o \"},\n",
    "  {\"ザ\"=>\"z a \"},\n",
    "  {\"ジ\"=>\"z i \"},\n",
    "  {\"ズ\"=>\"z u \"},\n",
    "  {\"ゼ\"=>\"z e \"},\n",
    "  {\"ゾ\"=>\"z o \"},\n",
    "  {\"タ\"=>\"t a \"},\n",
    "  {\"チ\"=>\"ch i \"},\n",
    "  {\"ツ\"=>\"ts u \"},\n",
    "  {\"テ\"=>\"t e \"},\n",
    "  {\"ト\"=>\"t o \"},\n",
    "  {\"ッ\"=>\"cl \"},\n",
    "  {\"ダ\"=>\"d a \"},\n",
    "  {\"ヂ\"=>\"z i \"},\n",
    "  {\"ヅ\"=>\"z u \"},\n",
    "  {\"デ\"=>\"d e \"},\n",
    "  {\"ド\"=>\"d o \"},\n",
    "  {\"ナ\"=>\"n a \"},\n",
    "  {\"ニ\"=>\"n i \"},\n",
    "  {\"ヌ\"=>\"n u \"},\n",
    "  {\"ネ\"=>\"n e \"},\n",
    "  {\"ノ\"=>\"n o \"},\n",
    "  {\"ハ\"=>\"h a \"},\n",
    "  {\"ヒ\"=>\"h i \"},\n",
    "  {\"フ\"=>\"h u \"},\n",
    "  {\"ヘ\"=>\"h e \"},\n",
    "  {\"ホ\"=>\"h o \"},\n",
    "  {\"バ\"=>\"b a \"},\n",
    "  {\"ビ\"=>\"b i \"},\n",
    "  {\"ブ\"=>\"b u \"},\n",
    "  {\"ベ\"=>\"b e \"},\n",
    "  {\"ボ\"=>\"b o \"},\n",
    "  {\"パ\"=>\"p a \"},\n",
    "  {\"ピ\"=>\"p i \"},\n",
    "  {\"プ\"=>\"p u \"},\n",
    "  {\"ペ\"=>\"p e \"},\n",
    "  {\"ポ\"=>\"p o \"},\n",
    "  {\"マ\"=>\"m a \"},\n",
    "  {\"ミ\"=>\"m i \"},\n",
    "  {\"ム\"=>\"m u \"},\n",
    "  {\"メ\"=>\"m e \"},\n",
    "  {\"モ\"=>\"m o \"},\n",
    "  {\"ヤ\"=>\"y a \"},\n",
    "  {\"ユ\"=>\"y u \"},\n",
    "  {\"ヨ\"=>\"y o \"},\n",
    "  {\"ラ\"=>\"r a \"},\n",
    "  {\"リ\"=>\"r i \"},\n",
    "  {\"ル\"=>\"r u \"},\n",
    "  {\"レ\"=>\"r e \"},\n",
    "  {\"ロ\"=>\"r o \"},\n",
    "  {\"ワ\"=>\"w a \"},\n",
    "  {\"ヲ\"=>\"o \"},\n",
    "  {\"ン\"=>\"N \"},\n",
    "  {\"ー\"=>\"long \"},\n",
    "  {\"、\"=>\"pau \"}\n",
    "\"\"\""
   ]
  },
  {
   "cell_type": "code",
   "execution_count": 3,
   "metadata": {
    "collapsed": true
   },
   "outputs": [],
   "source": [
    "text_s = text.split(',\\n ')"
   ]
  },
  {
   "cell_type": "code",
   "execution_count": 4,
   "metadata": {
    "collapsed": true
   },
   "outputs": [],
   "source": [
    "onso = [t.split('=>')[1].replace('\"', '').replace('}', '').replace('\\n', '') for t in text_s]\n",
    "onso = (''.join(onso)).split(' ')"
   ]
  },
  {
   "cell_type": "code",
   "execution_count": 5,
   "metadata": {
    "collapsed": true
   },
   "outputs": [],
   "source": [
    "onso_dict = {}\n",
    "for o in onso:\n",
    "    if o == '':\n",
    "        continue\n",
    "    if o in onso_dict.keys():\n",
    "        onso_dict[o] += 1\n",
    "    else:\n",
    "        onso_dict[o] = 1\n",
    "onso_list = list(onso_dict.keys())\n",
    "onso_list.sort()"
   ]
  },
  {
   "cell_type": "code",
   "execution_count": 6,
   "metadata": {},
   "outputs": [],
   "source": [
    "onso_table = {}\n",
    "for i, t in enumerate(onso_list):\n",
    "    onso_table[t] = i\n",
    "onso_table['sil'] = i+1"
   ]
  },
  {
   "cell_type": "code",
   "execution_count": 7,
   "metadata": {},
   "outputs": [
    {
     "data": {
      "text/plain": [
       "{'N': 0,\n",
       " 'a': 1,\n",
       " 'b': 2,\n",
       " 'ch': 3,\n",
       " 'cl': 4,\n",
       " 'd': 5,\n",
       " 'e': 6,\n",
       " 'f': 7,\n",
       " 'g': 8,\n",
       " 'h': 9,\n",
       " 'i': 10,\n",
       " 'j': 11,\n",
       " 'k': 12,\n",
       " 'long': 13,\n",
       " 'm': 14,\n",
       " 'n': 15,\n",
       " 'o': 16,\n",
       " 'p': 17,\n",
       " 'pau': 18,\n",
       " 'r': 19,\n",
       " 's': 20,\n",
       " 'sh': 21,\n",
       " 'sil': 29,\n",
       " 't': 22,\n",
       " 'ts': 23,\n",
       " 'u': 24,\n",
       " 'w': 25,\n",
       " 'y': 26,\n",
       " 'yy': 27,\n",
       " 'z': 28}"
      ]
     },
     "execution_count": 7,
     "metadata": {},
     "output_type": "execute_result"
    }
   ],
   "source": [
    "onso_table"
   ]
  },
  {
   "cell_type": "code",
   "execution_count": 10,
   "metadata": {
    "collapsed": true
   },
   "outputs": [],
   "source": [
    "import pickle\n",
    "with open('onso.pickle', 'wb') as o:\n",
    "    pickle.dump(onso_table, o)"
   ]
  },
  {
   "cell_type": "code",
   "execution_count": null,
   "metadata": {
    "collapsed": true
   },
   "outputs": [],
   "source": []
  }
 ],
 "metadata": {
  "kernelspec": {
   "display_name": "Python 3",
   "language": "python",
   "name": "python3"
  },
  "language_info": {
   "codemirror_mode": {
    "name": "ipython",
    "version": 3
   },
   "file_extension": ".py",
   "mimetype": "text/x-python",
   "name": "python",
   "nbconvert_exporter": "python",
   "pygments_lexer": "ipython3",
   "version": "3.6.0"
  }
 },
 "nbformat": 4,
 "nbformat_minor": 2
}
