{
 "cells": [
  {
   "cell_type": "code",
   "execution_count": 1,
   "metadata": {},
   "outputs": [
    {
     "name": "stderr",
     "output_type": "stream",
     "text": [
      "\r",
      "  0%|          | 0/1000 [00:00<?, ?it/s]\r",
      "  1%|          | 9/1000 [00:00<00:11, 89.29it/s]\r",
      "  2%|▏         | 18/1000 [00:00<00:11, 84.58it/s]\r",
      "  3%|▎         | 27/1000 [00:00<00:11, 85.08it/s]\r",
      "  4%|▎         | 36/1000 [00:00<00:11, 84.08it/s]\r",
      "  4%|▍         | 45/1000 [00:00<00:11, 83.54it/s]\r",
      "  5%|▌         | 54/1000 [00:00<00:11, 83.53it/s]\r",
      "  6%|▌         | 62/1000 [00:00<00:11, 82.99it/s]\r",
      "  7%|▋         | 71/1000 [00:00<00:11, 82.70it/s]\r",
      "  8%|▊         | 80/1000 [00:00<00:11, 82.59it/s]\r",
      "  9%|▉         | 89/1000 [00:01<00:10, 82.82it/s]\r",
      " 10%|▉         | 98/1000 [00:01<00:10, 82.77it/s]\r",
      " 11%|█         | 107/1000 [00:01<00:10, 82.94it/s]\r",
      " 12%|█▏        | 116/1000 [00:01<00:10, 82.77it/s]\r",
      " 12%|█▎        | 125/1000 [00:01<00:10, 82.64it/s]\r",
      " 13%|█▎        | 134/1000 [00:01<00:10, 82.46it/s]\r",
      " 14%|█▍        | 143/1000 [00:01<00:10, 82.52it/s]\r",
      " 15%|█▌        | 152/1000 [00:01<00:10, 82.66it/s]\r",
      " 16%|█▌        | 161/1000 [00:01<00:10, 82.99it/s]\r",
      " 17%|█▋        | 170/1000 [00:02<00:09, 83.28it/s]\r",
      " 18%|█▊        | 179/1000 [00:02<00:09, 83.27it/s]\n"
     ]
    },
    {
     "ename": "KeyboardInterrupt",
     "evalue": "",
     "output_type": "error",
     "traceback": [
      "\u001b[0;31m---------------------------------------------------------------------------\u001b[0m",
      "\u001b[0;31mKeyboardInterrupt\u001b[0m                         Traceback (most recent call last)",
      "\u001b[0;32m<ipython-input-1-25f43504a517>\u001b[0m in \u001b[0;36m<module>\u001b[0;34m()\u001b[0m\n\u001b[1;32m      3\u001b[0m \u001b[0;34m\u001b[0m\u001b[0m\n\u001b[1;32m      4\u001b[0m \u001b[0;32mfor\u001b[0m \u001b[0mi\u001b[0m \u001b[0;32min\u001b[0m \u001b[0mtqdm\u001b[0m\u001b[0;34m(\u001b[0m\u001b[0mrange\u001b[0m\u001b[0;34m(\u001b[0m\u001b[0;36m1000\u001b[0m\u001b[0;34m)\u001b[0m\u001b[0;34m)\u001b[0m\u001b[0;34m:\u001b[0m\u001b[0;34m\u001b[0m\u001b[0m\n\u001b[0;32m----> 5\u001b[0;31m     \u001b[0mtime\u001b[0m\u001b[0;34m.\u001b[0m\u001b[0msleep\u001b[0m\u001b[0;34m(\u001b[0m\u001b[0;36m0.01\u001b[0m\u001b[0;34m)\u001b[0m\u001b[0;34m\u001b[0m\u001b[0m\n\u001b[0m",
      "\u001b[0;31mKeyboardInterrupt\u001b[0m: "
     ]
    }
   ],
   "source": [
    "import time\n",
    "from tqdm import tqdm\n",
    "\n",
    "for i in tqdm(range(1000)):\n",
    "    time.sleep(0.01)"
   ]
  },
  {
   "cell_type": "code",
   "execution_count": null,
   "metadata": {},
   "outputs": [],
   "source": [
    "from tqdm import tqdm_notebook as tqdm\n",
    "for i in tqdm(range(1000)):\n",
    "    time.sleep(0.01)"
   ]
  },
  {
   "cell_type": "code",
   "execution_count": null,
   "metadata": {
    "collapsed": true
   },
   "outputs": [],
   "source": []
  }
 ],
 "metadata": {
  "kernelspec": {
   "display_name": "Python 3",
   "language": "python",
   "name": "python3"
  },
  "language_info": {
   "codemirror_mode": {
    "name": "ipython",
    "version": 3
   },
   "file_extension": ".py",
   "mimetype": "text/x-python",
   "name": "python",
   "nbconvert_exporter": "python",
   "pygments_lexer": "ipython3",
   "version": "3.6.0"
  }
 },
 "nbformat": 4,
 "nbformat_minor": 2
}
