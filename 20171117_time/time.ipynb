{
 "cells": [
  {
   "cell_type": "markdown",
   "metadata": {},
   "source": [
    "# %timeと%timeitで行ごとの実行時間を計測する"
   ]
  },
  {
   "cell_type": "code",
   "execution_count": 8,
   "metadata": {},
   "outputs": [
    {
     "name": "stdout",
     "output_type": "stream",
     "text": [
      "CPU times: user 52.1 ms, sys: 3.71 ms, total: 55.9 ms\n",
      "Wall time: 60.7 ms\n",
      "34.6 ms ± 1 ms per loop (mean ± std. dev. of 7 runs, 10 loops each)\n"
     ]
    }
   ],
   "source": [
    "%time l = [x ** 2 for x in range(100000)]\n",
    "%timeit l = [x ** 2 for x in range(100000)]"
   ]
  },
  {
   "cell_type": "markdown",
   "metadata": {},
   "source": [
    "# %%timeと%%timeitでセルの実行時間を計測する"
   ]
  },
  {
   "cell_type": "code",
   "execution_count": 15,
   "metadata": {},
   "outputs": [
    {
     "name": "stdout",
     "output_type": "stream",
     "text": [
      "CPU times: user 232 ms, sys: 8.14 ms, total: 240 ms\n",
      "Wall time: 248 ms\n"
     ]
    }
   ],
   "source": [
    "%%time\n",
    "l = [x ** 2 for x in range(100000)]\n",
    "l = [x ** 2 for x in range(100000)]\n",
    "l = [x ** 2 for x in range(100000)]\n",
    "l = [x ** 2 for x in range(100000)]\n",
    "l = [x ** 2 for x in range(100000)]\n",
    "l = [x ** 2 for x in range(100000)]"
   ]
  },
  {
   "cell_type": "code",
   "execution_count": 20,
   "metadata": {},
   "outputs": [
    {
     "ename": "SyntaxError",
     "evalue": "invalid syntax (<ipython-input-20-28d17cfb8b3a>, line 7)",
     "output_type": "error",
     "traceback": [
      "\u001b[0;36m  File \u001b[0;32m\"<ipython-input-20-28d17cfb8b3a>\"\u001b[0;36m, line \u001b[0;32m7\u001b[0m\n\u001b[0;31m    %%time\u001b[0m\n\u001b[0m    ^\u001b[0m\n\u001b[0;31mSyntaxError\u001b[0m\u001b[0;31m:\u001b[0m invalid syntax\n"
     ]
    }
   ],
   "source": [
    "l = [x ** 2 for x in range(100000)]\n",
    "l = [x ** 2 for x in range(100000)]\n",
    "l = [x ** 2 for x in range(100000)]\n",
    "l = [x ** 2 for x in range(100000)]\n",
    "l = [x ** 2 for x in range(100000)]\n",
    "l = [x ** 2 for x in range(100000)]\n",
    "%%time"
   ]
  },
  {
   "cell_type": "code",
   "execution_count": 16,
   "metadata": {},
   "outputs": [
    {
     "name": "stdout",
     "output_type": "stream",
     "text": [
      "225 ms ± 17.7 ms per loop (mean ± std. dev. of 7 runs, 1 loop each)\n"
     ]
    }
   ],
   "source": [
    "%%timeit\n",
    "l = [x ** 2 for x in range(100000)]\n",
    "l = [x ** 2 for x in range(100000)]\n",
    "l = [x ** 2 for x in range(100000)]\n",
    "l = [x ** 2 for x in range(100000)]\n",
    "l = [x ** 2 for x in range(100000)]\n",
    "l = [x ** 2 for x in range(100000)]"
   ]
  },
  {
   "cell_type": "markdown",
   "metadata": {},
   "source": [
    "# %timeitと%%timeの結果を比較する"
   ]
  },
  {
   "cell_type": "code",
   "execution_count": 18,
   "metadata": {},
   "outputs": [
    {
     "name": "stdout",
     "output_type": "stream",
     "text": [
      "207.60000000000002[s]\n"
     ]
    }
   ],
   "source": [
    "print(str(34.6*6) + '[s]') # %timeitの結果を%%timeのセルで実行した6回分にしてどんなもんか見る"
   ]
  },
  {
   "cell_type": "code",
   "execution_count": null,
   "metadata": {
    "collapsed": true
   },
   "outputs": [],
   "source": []
  }
 ],
 "metadata": {
  "kernelspec": {
   "display_name": "Python 3",
   "language": "python",
   "name": "python3"
  },
  "language_info": {
   "codemirror_mode": {
    "name": "ipython",
    "version": 3
   },
   "file_extension": ".py",
   "mimetype": "text/x-python",
   "name": "python",
   "nbconvert_exporter": "python",
   "pygments_lexer": "ipython3",
   "version": "3.6.0"
  },
  "varInspector": {
   "cols": {
    "lenName": 16,
    "lenType": 16,
    "lenVar": 40
   },
   "kernels_config": {
    "python": {
     "delete_cmd_postfix": "",
     "delete_cmd_prefix": "del ",
     "library": "var_list.py",
     "varRefreshCmd": "print(var_dic_list())"
    },
    "r": {
     "delete_cmd_postfix": ") ",
     "delete_cmd_prefix": "rm(",
     "library": "var_list.r",
     "varRefreshCmd": "cat(var_dic_list()) "
    }
   },
   "types_to_exclude": [
    "module",
    "function",
    "builtin_function_or_method",
    "instance",
    "_Feature"
   ],
   "window_display": false
  }
 },
 "nbformat": 4,
 "nbformat_minor": 2
}
